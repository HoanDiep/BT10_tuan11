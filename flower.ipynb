{
  "nbformat": 4,
  "nbformat_minor": 0,
  "metadata": {
    "colab": {
      "provenance": [],
      "authorship_tag": "ABX9TyNMFS19HM92szl8XA+zfm3X",
      "include_colab_link": true
    },
    "kernelspec": {
      "name": "python3",
      "display_name": "Python 3"
    },
    "language_info": {
      "name": "python"
    },
    "accelerator": "GPU",
    "gpuClass": "standard"
  },
  "cells": [
    {
      "cell_type": "markdown",
      "metadata": {
        "id": "view-in-github",
        "colab_type": "text"
      },
      "source": [
        "<a href=\"https://colab.research.google.com/github/HoanDiep/BT10_tuan11/blob/main/flower.ipynb\" target=\"_parent\"><img src=\"https://colab.research.google.com/assets/colab-badge.svg\" alt=\"Open In Colab\"/></a>"
      ]
    },
    {
      "cell_type": "code",
      "execution_count": 1,
      "metadata": {
        "colab": {
          "base_uri": "https://localhost:8080/"
        },
        "id": "XNfTzZfpdJad",
        "outputId": "2c6cddf0-a6e5-4f2c-a9c0-936f1fff2660"
      },
      "outputs": [
        {
          "output_type": "stream",
          "name": "stdout",
          "text": [
            "Mounted at /content/drive\n"
          ]
        }
      ],
      "source": [
        "from os import listdir\n",
        "from numpy import asarray\n",
        "from numpy import save\n",
        "from keras.utils import load_img, img_to_array\n",
        "import matplotlib.pyplot as plt\n",
        "from google.colab import drive\n",
        "drive.mount('/content/drive')"
      ]
    },
    {
      "cell_type": "code",
      "source": [
        "folder = '/content/drive/My Drive/Colab Notebooks/flower/'\n",
        "photos, labels = list(), list()\n",
        "for file in listdir(folder):\n",
        "  if file.startswith('apricot'):\n",
        "    output = 0\n",
        "  elif file.startswith('daisy'):\n",
        "    output = 1\n",
        "  elif file.startswith('lotus'):\n",
        "    output = 2\n",
        "  elif file.startswith('rose'):\n",
        "    output = 3\n",
        "  elif file.startswith('waterlily'):\n",
        "    output = 4\n",
        "  else:\n",
        "    continue\n",
        "  photo = load_img(folder + file, target_size=(30, 40))\n",
        "  photo = img_to_array(photo)\n",
        "  photos.append(photo)\n",
        "  labels.append(output)\n",
        "photos = asarray(photos)\n",
        "labels = asarray(labels)\n",
        "save('photos.npy', photos)\n",
        "save('labels.npy', labels)"
      ],
      "metadata": {
        "id": "B1ZyroOEdbWm"
      },
      "execution_count": 2,
      "outputs": []
    },
    {
      "cell_type": "code",
      "source": [
        "!cp photos.npy \"/content/drive/My Drive/Colab Notebooks\"\n",
        "!cp labels.npy \"/content/drive/My Drive/Colab Notebooks\""
      ],
      "metadata": {
        "id": "dj8MtxoOhYeU"
      },
      "execution_count": 3,
      "outputs": []
    },
    {
      "cell_type": "code",
      "source": [
        "from sklearn.model_selection import train_test_split\n",
        "import numpy as np\n",
        "photos = np.load('/content/drive/My Drive/Colab Notebooks/photos.npy')\n",
        "labels = np.load('/content/drive/My Drive/Colab Notebooks/labels.npy')\n",
        "\n",
        "x_train, x_test, y_train, y_test = train_test_split(photos, labels, test_size=0.1)"
      ],
      "metadata": {
        "id": "AYUmYgb7hebE"
      },
      "execution_count": 4,
      "outputs": []
    },
    {
      "cell_type": "code",
      "source": [
        "x_train.shape\n"
      ],
      "metadata": {
        "colab": {
          "base_uri": "https://localhost:8080/"
        },
        "id": "EuX1953phiUL",
        "outputId": "f6936bf2-cd45-467d-a2c9-c0db73b9b8e4"
      },
      "execution_count": 5,
      "outputs": [
        {
          "output_type": "execute_result",
          "data": {
            "text/plain": [
              "(1093, 30, 40, 3)"
            ]
          },
          "metadata": {},
          "execution_count": 5
        }
      ]
    },
    {
      "cell_type": "code",
      "source": [
        "x_test.shape"
      ],
      "metadata": {
        "colab": {
          "base_uri": "https://localhost:8080/"
        },
        "id": "6PLdstWkhlob",
        "outputId": "cc89c31f-0f09-4556-c4e3-f25b0edcca4d"
      },
      "execution_count": 6,
      "outputs": [
        {
          "output_type": "execute_result",
          "data": {
            "text/plain": [
              "(122, 30, 40, 3)"
            ]
          },
          "metadata": {},
          "execution_count": 6
        }
      ]
    },
    {
      "cell_type": "code",
      "source": [
        "x_train = x_train.reshape(1093, 30, 40, 3)\n",
        "x_test = x_test.reshape(122, 30, 40, 3)\n",
        "x_train = x_train.astype('float32') / 255\n",
        "x_test = x_test.astype('float32') / 255"
      ],
      "metadata": {
        "id": "Hj63i_njho0a"
      },
      "execution_count": 7,
      "outputs": []
    },
    {
      "cell_type": "code",
      "source": [
        "labels_flower = ['apricot','daisy','lotus','rose','waterlily']"
      ],
      "metadata": {
        "id": "wcmXPKvij9Rh"
      },
      "execution_count": 8,
      "outputs": []
    },
    {
      "cell_type": "code",
      "source": [
        "from matplotlib import pyplot as plt\n",
        "# Plot the first two images of the training set\n",
        "plt.figure(figsize=(10, 10))\n",
        "plt.subplot(121)\n",
        "plt.imshow(x_train[0], cmap='gray')\n",
        "plt.title(\"FLOWER: {}\".format(labels_flower[y_train[0]]))\n",
        "plt.subplot(122)\n",
        "plt.imshow(x_test[20], cmap='gray')\n",
        "plt.title(\"FLOWER: {}\".format(labels_flower[y_test[20]]))\n",
        "plt.show()"
      ],
      "metadata": {
        "colab": {
          "base_uri": "https://localhost:8080/",
          "height": 347
        },
        "id": "WZcCaGEOiMJk",
        "outputId": "c2cd2939-f4cc-4c22-caa7-e6c9a3cf89ad"
      },
      "execution_count": 9,
      "outputs": [
        {
          "output_type": "display_data",
          "data": {
            "text/plain": [
              "<Figure size 1000x1000 with 2 Axes>"
            ],
            "image/png": "[encoded data removed]"
          },
          "metadata": {}
        }
      ]
    },
    {
      "cell_type": "code",
      "source": [
        "from keras.utils import to_categorical\n",
        "y_train = to_categorical(y_train, 5)\n",
        "y_test = to_categorical(y_test, 5)"
      ],
      "metadata": {
        "id": "KafrdgvoibG_"
      },
      "execution_count": 10,
      "outputs": []
    },
    {
      "cell_type": "code",
      "source": [
        "from keras.models import Sequential\n",
        "from keras.layers import Dense, Conv2D, Flatten, MaxPooling2D, LeakyReLU, Dropout\n",
        "model = Sequential()\n",
        "\n",
        "model.add(Conv2D(32, kernel_size=3, activation='linear', input_shape=(30, 40, 3)))\n",
        "model.add(LeakyReLU(alpha=0.1))\n",
        "model.add(MaxPooling2D(pool_size=(2, 2)))\n",
        "model.add(Dropout(0.25))\n",
        "\n",
        "model.add(Conv2D(64, kernel_size=3, activation='linear', padding = 'same'))\n",
        "model.add(LeakyReLU(alpha=0.1))\n",
        "model.add(MaxPooling2D(pool_size=(2, 2)))\n",
        "model.add(Dropout(0.25))\n",
        "\n",
        "model.add(Conv2D(128, kernel_size=3, activation='linear', padding = 'same'))\n",
        "model.add(LeakyReLU(alpha=0.1))\n",
        "model.add(MaxPooling2D(pool_size=(2, 2)))\n",
        "model.add(Dropout(0.4))\n",
        "\n",
        "model.add(Flatten())\n",
        "\n",
        "model.add(Dense(128, activation='linear'))\n",
        "model.add(LeakyReLU(alpha=0.1))\n",
        "model.add(Dropout(0.3))\n",
        "\n",
        "model.add(Dense(5, activation='softmax'))\n",
        "\n",
        "model.summary()\n"
      ],
      "metadata": {
        "colab": {
          "base_uri": "https://localhost:8080/"
        },
        "id": "aMISktVUilK-",
        "outputId": "6ce965ab-6d27-4791-a258-48056f5120a9"
      },
      "execution_count": 11,
      "outputs": [
        {
          "output_type": "stream",
          "name": "stdout",
          "text": [
            "Model: \"sequential\"\n",
            "_________________________________________________________________\n",
            " Layer (type)                Output Shape              Param #   \n",
            "=================================================================\n",
            " conv2d (Conv2D)             (None, 28, 38, 32)        896       \n",
            "                                                                 \n",
            " leaky_re_lu (LeakyReLU)     (None, 28, 38, 32)        0         \n",
            "                                                                 \n",
            " max_pooling2d (MaxPooling2D  (None, 14, 19, 32)       0         \n",
            " )                                                               \n",
            "                                                                 \n",
            " dropout (Dropout)           (None, 14, 19, 32)        0         \n",
            "                                                                 \n",
            " conv2d_1 (Conv2D)           (None, 14, 19, 64)        18496     \n",
            "                                                                 \n",
            " leaky_re_lu_1 (LeakyReLU)   (None, 14, 19, 64)        0         \n",
            "                                                                 \n",
            " max_pooling2d_1 (MaxPooling  (None, 7, 9, 64)         0         \n",
            " 2D)                                                             \n",
            "                                                                 \n",
            " dropout_1 (Dropout)         (None, 7, 9, 64)          0         \n",
            "                                                                 \n",
            " conv2d_2 (Conv2D)           (None, 7, 9, 128)         73856     \n",
            "                                                                 \n",
            " leaky_re_lu_2 (LeakyReLU)   (None, 7, 9, 128)         0         \n",
            "                                                                 \n",
            " max_pooling2d_2 (MaxPooling  (None, 3, 4, 128)        0         \n",
            " 2D)                                                             \n",
            "                                                                 \n",
            " dropout_2 (Dropout)         (None, 3, 4, 128)         0         \n",
            "                                                                 \n",
            " flatten (Flatten)           (None, 1536)              0         \n",
            "                                                                 \n",
            " dense (Dense)               (None, 128)               196736    \n",
            "                                                                 \n",
            " leaky_re_lu_3 (LeakyReLU)   (None, 128)               0         \n",
            "                                                                 \n",
            " dropout_3 (Dropout)         (None, 128)               0         \n",
            "                                                                 \n",
            " dense_1 (Dense)             (None, 5)                 645       \n",
            "                                                                 \n",
            "=================================================================\n",
            "Total params: 290,629\n",
            "Trainable params: 290,629\n",
            "Non-trainable params: 0\n",
            "_________________________________________________________________\n"
          ]
        }
      ]
    },
    {
      "cell_type": "code",
      "source": [
        "from keras.callbacks import EarlyStopping\n",
        "early_stopping = EarlyStopping(monitor='val_accuracy', patience=10, verbose=1, mode='max')\n",
        "model.compile(optimizer='adam', loss='categorical_crossentropy', metrics=['accuracy'])\n"
      ],
      "metadata": {
        "id": "CIljfEFRipJU"
      },
      "execution_count": 12,
      "outputs": []
    },
    {
      "cell_type": "code",
      "source": [
        "model.fit(x_train, y_train, batch_size=12, epochs=100, verbose=1)"
      ],
      "metadata": {
        "colab": {
          "base_uri": "https://localhost:8080/"
        },
        "id": "l0v75CiBi62v",
        "outputId": "cc43f39f-8ebc-44c9-d075-13843af73cb8"
      },
      "execution_count": 13,
      "outputs": [
        {
          "output_type": "stream",
          "name": "stdout",
          "text": [
            "Epoch 1/100\n",
            "92/92 [==============================] - 10s 7ms/step - loss: 1.0927 - accuracy: 0.5425\n",
            "Epoch 2/100\n",
            "92/92 [==============================] - 0s 5ms/step - loss: 0.6891 - accuracy: 0.7301\n",
            "Epoch 3/100\n",
            "92/92 [==============================] - 0s 5ms/step - loss: 0.5722 - accuracy: 0.7905\n",
            "Epoch 4/100\n",
            "92/92 [==============================] - 0s 5ms/step - loss: 0.5247 - accuracy: 0.8143\n",
            "Epoch 5/100\n",
            "92/92 [==============================] - 0s 5ms/step - loss: 0.5034 - accuracy: 0.8179\n",
            "Epoch 6/100\n",
            "92/92 [==============================] - 1s 8ms/step - loss: 0.4110 - accuracy: 0.8481\n",
            "Epoch 7/100\n",
            "92/92 [==============================] - 1s 6ms/step - loss: 0.3765 - accuracy: 0.8719\n",
            "Epoch 8/100\n",
            "92/92 [==============================] - 1s 9ms/step - loss: 0.3559 - accuracy: 0.8646\n",
            "Epoch 9/100\n",
            "92/92 [==============================] - 0s 5ms/step - loss: 0.3333 - accuracy: 0.8673\n",
            "Epoch 10/100\n",
            "92/92 [==============================] - 1s 12ms/step - loss: 0.3233 - accuracy: 0.8856\n",
            "Epoch 11/100\n",
            "92/92 [==============================] - 1s 7ms/step - loss: 0.2814 - accuracy: 0.8984\n",
            "Epoch 12/100\n",
            "92/92 [==============================] - 1s 7ms/step - loss: 0.2440 - accuracy: 0.9158\n",
            "Epoch 13/100\n",
            "92/92 [==============================] - 1s 6ms/step - loss: 0.2408 - accuracy: 0.9103\n",
            "Epoch 14/100\n",
            "92/92 [==============================] - 1s 6ms/step - loss: 0.2022 - accuracy: 0.9250\n",
            "Epoch 15/100\n",
            "92/92 [==============================] - 1s 6ms/step - loss: 0.1873 - accuracy: 0.9360\n",
            "Epoch 16/100\n",
            "92/92 [==============================] - 1s 5ms/step - loss: 0.2522 - accuracy: 0.9085\n",
            "Epoch 17/100\n",
            "92/92 [==============================] - 0s 5ms/step - loss: 0.1951 - accuracy: 0.9268\n",
            "Epoch 18/100\n",
            "92/92 [==============================] - 0s 5ms/step - loss: 0.1542 - accuracy: 0.9405\n",
            "Epoch 19/100\n",
            "92/92 [==============================] - 0s 5ms/step - loss: 0.1417 - accuracy: 0.9488\n",
            "Epoch 20/100\n",
            "92/92 [==============================] - 0s 5ms/step - loss: 0.1609 - accuracy: 0.9405\n",
            "Epoch 21/100\n",
            "92/92 [==============================] - 0s 5ms/step - loss: 0.1116 - accuracy: 0.9634\n",
            "Epoch 22/100\n",
            "92/92 [==============================] - 0s 5ms/step - loss: 0.1590 - accuracy: 0.9405\n",
            "Epoch 23/100\n",
            "92/92 [==============================] - 0s 5ms/step - loss: 0.0818 - accuracy: 0.9744\n",
            "Epoch 24/100\n",
            "92/92 [==============================] - 0s 5ms/step - loss: 0.0908 - accuracy: 0.9625\n",
            "Epoch 25/100\n",
            "92/92 [==============================] - 0s 5ms/step - loss: 0.1335 - accuracy: 0.9533\n",
            "Epoch 26/100\n",
            "92/92 [==============================] - 0s 5ms/step - loss: 0.0875 - accuracy: 0.9680\n",
            "Epoch 27/100\n",
            "92/92 [==============================] - 0s 5ms/step - loss: 0.1045 - accuracy: 0.9625\n",
            "Epoch 28/100\n",
            "92/92 [==============================] - 0s 5ms/step - loss: 0.1030 - accuracy: 0.9588\n",
            "Epoch 29/100\n",
            "92/92 [==============================] - 0s 5ms/step - loss: 0.0641 - accuracy: 0.9753\n",
            "Epoch 30/100\n",
            "92/92 [==============================] - 0s 5ms/step - loss: 0.0493 - accuracy: 0.9844\n",
            "Epoch 31/100\n",
            "92/92 [==============================] - 0s 5ms/step - loss: 0.0747 - accuracy: 0.9753\n",
            "Epoch 32/100\n",
            "92/92 [==============================] - 0s 5ms/step - loss: 0.0839 - accuracy: 0.9744\n",
            "Epoch 33/100\n",
            "92/92 [==============================] - 0s 5ms/step - loss: 0.0339 - accuracy: 0.9909\n",
            "Epoch 34/100\n",
            "92/92 [==============================] - 0s 5ms/step - loss: 0.0339 - accuracy: 0.9918\n",
            "Epoch 35/100\n",
            "92/92 [==============================] - 0s 5ms/step - loss: 0.0625 - accuracy: 0.9762\n",
            "Epoch 36/100\n",
            "92/92 [==============================] - 0s 5ms/step - loss: 0.0869 - accuracy: 0.9680\n",
            "Epoch 37/100\n",
            "92/92 [==============================] - 0s 5ms/step - loss: 0.0892 - accuracy: 0.9671\n",
            "Epoch 38/100\n",
            "92/92 [==============================] - 1s 6ms/step - loss: 0.0639 - accuracy: 0.9744\n",
            "Epoch 39/100\n",
            "92/92 [==============================] - 1s 6ms/step - loss: 0.0490 - accuracy: 0.9844\n",
            "Epoch 40/100\n",
            "92/92 [==============================] - 1s 7ms/step - loss: 0.0492 - accuracy: 0.9826\n",
            "Epoch 41/100\n",
            "92/92 [==============================] - 1s 7ms/step - loss: 0.0906 - accuracy: 0.9671\n",
            "Epoch 42/100\n",
            "92/92 [==============================] - 1s 6ms/step - loss: 0.1085 - accuracy: 0.9616\n",
            "Epoch 43/100\n",
            "92/92 [==============================] - 1s 7ms/step - loss: 0.0727 - accuracy: 0.9744\n",
            "Epoch 44/100\n",
            "92/92 [==============================] - 1s 6ms/step - loss: 0.0537 - accuracy: 0.9799\n",
            "Epoch 45/100\n",
            "92/92 [==============================] - 0s 5ms/step - loss: 0.0502 - accuracy: 0.9844\n",
            "Epoch 46/100\n",
            "92/92 [==============================] - 0s 5ms/step - loss: 0.0589 - accuracy: 0.9808\n",
            "Epoch 47/100\n",
            "92/92 [==============================] - 0s 5ms/step - loss: 0.0333 - accuracy: 0.9890\n",
            "Epoch 48/100\n",
            "92/92 [==============================] - 0s 5ms/step - loss: 0.0190 - accuracy: 0.9927\n",
            "Epoch 49/100\n",
            "92/92 [==============================] - 0s 5ms/step - loss: 0.0309 - accuracy: 0.9909\n",
            "Epoch 50/100\n",
            "92/92 [==============================] - 0s 5ms/step - loss: 0.0168 - accuracy: 0.9954\n",
            "Epoch 51/100\n",
            "92/92 [==============================] - 0s 5ms/step - loss: 0.1421 - accuracy: 0.9524\n",
            "Epoch 52/100\n",
            "92/92 [==============================] - 0s 5ms/step - loss: 0.0527 - accuracy: 0.9799\n",
            "Epoch 53/100\n",
            "92/92 [==============================] - 0s 5ms/step - loss: 0.0924 - accuracy: 0.9735\n",
            "Epoch 54/100\n",
            "92/92 [==============================] - 0s 5ms/step - loss: 0.0584 - accuracy: 0.9799\n",
            "Epoch 55/100\n",
            "92/92 [==============================] - 0s 5ms/step - loss: 0.0708 - accuracy: 0.9753\n",
            "Epoch 56/100\n",
            "92/92 [==============================] - 0s 5ms/step - loss: 0.0368 - accuracy: 0.9872\n",
            "Epoch 57/100\n",
            "92/92 [==============================] - 0s 5ms/step - loss: 0.0466 - accuracy: 0.9863\n",
            "Epoch 58/100\n",
            "92/92 [==============================] - 0s 5ms/step - loss: 0.0178 - accuracy: 0.9945\n",
            "Epoch 59/100\n",
            "92/92 [==============================] - 0s 5ms/step - loss: 0.0204 - accuracy: 0.9936\n",
            "Epoch 60/100\n",
            "92/92 [==============================] - 0s 5ms/step - loss: 0.0168 - accuracy: 0.9936\n",
            "Epoch 61/100\n",
            "92/92 [==============================] - 0s 5ms/step - loss: 0.0238 - accuracy: 0.9936\n",
            "Epoch 62/100\n",
            "92/92 [==============================] - 0s 5ms/step - loss: 0.0147 - accuracy: 0.9954\n",
            "Epoch 63/100\n",
            "92/92 [==============================] - 0s 5ms/step - loss: 0.0420 - accuracy: 0.9890\n",
            "Epoch 64/100\n",
            "92/92 [==============================] - 0s 5ms/step - loss: 0.0944 - accuracy: 0.9698\n",
            "Epoch 65/100\n",
            "92/92 [==============================] - 0s 5ms/step - loss: 0.0628 - accuracy: 0.9744\n",
            "Epoch 66/100\n",
            "92/92 [==============================] - 1s 5ms/step - loss: 0.0524 - accuracy: 0.9799\n",
            "Epoch 67/100\n",
            "92/92 [==============================] - 1s 6ms/step - loss: 0.0432 - accuracy: 0.9835\n",
            "Epoch 68/100\n",
            "92/92 [==============================] - 1s 7ms/step - loss: 0.0442 - accuracy: 0.9817\n",
            "Epoch 69/100\n",
            "92/92 [==============================] - 1s 6ms/step - loss: 0.0282 - accuracy: 0.9927\n",
            "Epoch 70/100\n",
            "92/92 [==============================] - 1s 6ms/step - loss: 0.0472 - accuracy: 0.9881\n",
            "Epoch 71/100\n",
            "92/92 [==============================] - 1s 6ms/step - loss: 0.2423 - accuracy: 0.9350\n",
            "Epoch 72/100\n",
            "92/92 [==============================] - 1s 7ms/step - loss: 0.0656 - accuracy: 0.9735\n",
            "Epoch 73/100\n",
            "92/92 [==============================] - 0s 5ms/step - loss: 0.0602 - accuracy: 0.9790\n",
            "Epoch 74/100\n",
            "92/92 [==============================] - 0s 5ms/step - loss: 0.0358 - accuracy: 0.9918\n",
            "Epoch 75/100\n",
            "92/92 [==============================] - 0s 5ms/step - loss: 0.0465 - accuracy: 0.9817\n",
            "Epoch 76/100\n",
            "92/92 [==============================] - 0s 5ms/step - loss: 0.0260 - accuracy: 0.9863\n",
            "Epoch 77/100\n",
            "92/92 [==============================] - 0s 5ms/step - loss: 0.0220 - accuracy: 0.9936\n",
            "Epoch 78/100\n",
            "92/92 [==============================] - 0s 5ms/step - loss: 0.0294 - accuracy: 0.9927\n",
            "Epoch 79/100\n",
            "92/92 [==============================] - 0s 5ms/step - loss: 0.0067 - accuracy: 0.9982\n",
            "Epoch 80/100\n",
            "92/92 [==============================] - 0s 5ms/step - loss: 0.0143 - accuracy: 0.9945\n",
            "Epoch 81/100\n",
            "92/92 [==============================] - 0s 5ms/step - loss: 0.0120 - accuracy: 0.9963\n",
            "Epoch 82/100\n",
            "92/92 [==============================] - 0s 5ms/step - loss: 0.0110 - accuracy: 0.9936\n",
            "Epoch 83/100\n",
            "92/92 [==============================] - 0s 5ms/step - loss: 0.0049 - accuracy: 0.9991\n",
            "Epoch 84/100\n",
            "92/92 [==============================] - 0s 5ms/step - loss: 0.0161 - accuracy: 0.9973\n",
            "Epoch 85/100\n",
            "92/92 [==============================] - 0s 5ms/step - loss: 0.0323 - accuracy: 0.9899\n",
            "Epoch 86/100\n",
            "92/92 [==============================] - 0s 5ms/step - loss: 0.0329 - accuracy: 0.9918\n",
            "Epoch 87/100\n",
            "92/92 [==============================] - 0s 5ms/step - loss: 0.0754 - accuracy: 0.9799\n",
            "Epoch 88/100\n",
            "92/92 [==============================] - 0s 5ms/step - loss: 0.1189 - accuracy: 0.9652\n",
            "Epoch 89/100\n",
            "92/92 [==============================] - 0s 5ms/step - loss: 0.0801 - accuracy: 0.9771\n",
            "Epoch 90/100\n",
            "92/92 [==============================] - 0s 5ms/step - loss: 0.0617 - accuracy: 0.9817\n",
            "Epoch 91/100\n",
            "92/92 [==============================] - 0s 5ms/step - loss: 0.0475 - accuracy: 0.9890\n",
            "Epoch 92/100\n",
            "92/92 [==============================] - 0s 5ms/step - loss: 0.0354 - accuracy: 0.9854\n",
            "Epoch 93/100\n",
            "92/92 [==============================] - 0s 5ms/step - loss: 0.0203 - accuracy: 0.9918\n",
            "Epoch 94/100\n",
            "92/92 [==============================] - 0s 5ms/step - loss: 0.0117 - accuracy: 0.9954\n",
            "Epoch 95/100\n",
            "92/92 [==============================] - 1s 6ms/step - loss: 0.0128 - accuracy: 0.9945\n",
            "Epoch 96/100\n",
            "92/92 [==============================] - 1s 6ms/step - loss: 0.0078 - accuracy: 0.9973\n",
            "Epoch 97/100\n",
            "92/92 [==============================] - 1s 6ms/step - loss: 0.0243 - accuracy: 0.9973\n",
            "Epoch 98/100\n",
            "92/92 [==============================] - 1s 6ms/step - loss: 0.0050 - accuracy: 0.9991\n",
            "Epoch 99/100\n",
            "92/92 [==============================] - 1s 6ms/step - loss: 0.0130 - accuracy: 0.9954\n",
            "Epoch 100/100\n",
            "92/92 [==============================] - 1s 6ms/step - loss: 0.0165 - accuracy: 0.9936\n"
          ]
        },
        {
          "output_type": "execute_result",
          "data": {
            "text/plain": [
              "<keras.callbacks.History at 0x7f57080ccb50>"
            ]
          },
          "metadata": {},
          "execution_count": 13
        }
      ]
    },
    {
      "cell_type": "code",
      "source": [
        "test_loss,test_acc=model.evaluate(x_test,y_test)\n",
        "\n",
        "print('test_acc:',test_acc)\n",
        "print('test_loss:',test_loss)"
      ],
      "metadata": {
        "colab": {
          "base_uri": "https://localhost:8080/"
        },
        "id": "9yMRQE9Mjk4w",
        "outputId": "54c67a67-4b28-4181-de21-1ee47a254c1f"
      },
      "execution_count": 14,
      "outputs": [
        {
          "output_type": "stream",
          "name": "stdout",
          "text": [
            "4/4 [==============================] - 1s 45ms/step - loss: 0.7369 - accuracy: 0.9016\n",
            "test_acc: 0.9016393423080444\n",
            "test_loss: 0.7368603348731995\n"
          ]
        }
      ]
    },
    {
      "cell_type": "code",
      "source": [
        "model.save('/content/drive/My Drive/Colab Notebooks/flower.h5')"
      ],
      "metadata": {
        "id": "EXStd-DAjy14"
      },
      "execution_count": 15,
      "outputs": []
    },
    {
      "cell_type": "code",
      "source": [
        "\n",
        "img = load_img('/content/drive/My Drive/Colab Notebooks/lotus2.jpg',target_size=(30,40))\n",
        "plt.imshow(img)\n",
        "img = img_to_array(img)\n",
        "img = img.reshape(1, 30, 40, 3)\n",
        "img = img.astype('float32') / 255\n",
        "result = labels_flower[np.argmax(model.predict(img))]\n",
        "print(result)"
      ],
      "metadata": {
        "colab": {
          "base_uri": "https://localhost:8080/",
          "height": 466
        },
        "id": "CwQ-NK3kqOg8",
        "outputId": "2fd35370-2c38-401b-a6db-84dee706fb47"
      },
      "execution_count": 16,
      "outputs": [
        {
          "output_type": "stream",
          "name": "stdout",
          "text": [
            "1/1 [==============================] - 0s 170ms/step\n",
            "lotus\n"
          ]
        },
        {
          "output_type": "display_data",
          "data": {
            "text/plain": [
              "<Figure size 640x480 with 1 Axes>"
            ],
            "image/png": "[encoded data removed]"
          },
          "metadata": {}
        }
      ]
    },
    {
      "cell_type": "code",
      "source": [
        "img1 = load_img('/content/drive/My Drive/Colab Notebooks/daisy.jpg',target_size=(30,40))\n",
        "plt.imshow(img1)\n",
        "img1 = img_to_array(img1)\n",
        "img1 = img1.reshape(1, 30, 40, 3)\n",
        "img1 = img1.astype('float32') / 255\n",
        "result1 = labels_flower[np.argmax(model.predict(img1))]\n",
        "print(result1)"
      ],
      "metadata": {
        "colab": {
          "base_uri": "https://localhost:8080/",
          "height": 466
        },
        "id": "QGSafKC3tFDd",
        "outputId": "334bb402-106d-4abd-ebdb-fa473e78fb16"
      },
      "execution_count": 17,
      "outputs": [
        {
          "output_type": "stream",
          "name": "stdout",
          "text": [
            "1/1 [==============================] - 0s 21ms/step\n",
            "daisy\n"
          ]
        },
        {
          "output_type": "display_data",
          "data": {
            "text/plain": [
              "<Figure size 640x480 with 1 Axes>"
            ],
            "image/png": "[encoded data removed]"
          },
          "metadata": {}
        }
      ]
    },
    {
      "cell_type": "code",
      "source": [
        "img2 = load_img('/content/drive/My Drive/Colab Notebooks/waterlily.jpg',target_size=(30,40))\n",
        "plt.imshow(img2)\n",
        "img2 = img_to_array(img2)\n",
        "img2 = img2.reshape(1, 30, 40, 3)\n",
        "img2 = img2.astype('float32') / 255\n",
        "result2 = labels_flower[np.argmax(model.predict(img2))]\n",
        "print(result2)"
      ],
      "metadata": {
        "colab": {
          "base_uri": "https://localhost:8080/",
          "height": 466
        },
        "id": "DmMW0q_ax_rJ",
        "outputId": "896f9b2e-0024-4391-a16b-93307619a31a"
      },
      "execution_count": 18,
      "outputs": [
        {
          "output_type": "stream",
          "name": "stdout",
          "text": [
            "1/1 [==============================] - 0s 19ms/step\n",
            "waterlily\n"
          ]
        },
        {
          "output_type": "display_data",
          "data": {
            "text/plain": [
              "<Figure size 640x480 with 1 Axes>"
            ],
            "image/png": "[encoded data removed]"
          },
          "metadata": {}
        }
      ]
    },
    {
      "cell_type": "code",
      "source": [],
      "metadata": {
        "id": "cj0jXpVUyAI3"
      },
      "execution_count": 18,
      "outputs": []
    }
  ]
}