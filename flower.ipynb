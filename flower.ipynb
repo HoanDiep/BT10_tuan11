{
  "nbformat": 4,
  "nbformat_minor": 0,
  "metadata": {
    "colab": {
      "provenance": [],
      "authorship_tag": "ABX9TyO+5FyjI8pKv/pGaDHenSjr",
      "include_colab_link": true
    },
    "kernelspec": {
      "name": "python3",
      "display_name": "Python 3"
    },
    "language_info": {
      "name": "python"
    },
    "accelerator": "GPU",
    "gpuClass": "standard"
  },
  "cells": [
    {
      "cell_type": "markdown",
      "metadata": {
        "id": "view-in-github",
        "colab_type": "text"
      },
      "source": [
        "<a href=\"https://colab.research.google.com/github/HoanDiep/BT10_tuan11/blob/main/flower.ipynb\" target=\"_parent\"><img src=\"https://colab.research.google.com/assets/colab-badge.svg\" alt=\"Open In Colab\"/></a>"
      ]
    },
    {
      "cell_type": "code",
      "execution_count": 1,
      "metadata": {
        "colab": {
          "base_uri": "https://localhost:8080/"
        },
        "id": "XNfTzZfpdJad",
        "outputId": "1c6a7702-935a-4f42-b166-3400406b6236"
      },
      "outputs": [
        {
          "output_type": "stream",
          "name": "stdout",
          "text": [
            "Drive already mounted at /content/drive; to attempt to forcibly remount, call drive.mount(\"/content/drive\", force_remount=True).\n"
          ]
        }
      ],
      "source": [
        "from os import listdir\n",
        "from numpy import asarray\n",
        "from numpy import save\n",
        "from keras.utils import load_img, img_to_array\n",
        "import matplotlib.pyplot as plt\n",
        "from google.colab import drive\n",
        "drive.mount('/content/drive')"
      ]
    },
    {
      "cell_type": "code",
      "source": [
        "folder = '/content/drive/My Drive/Colab Notebooks/flower/'\n",
        "photos, labels = list(), list()\n",
        "for file in listdir(folder):\n",
        "  if file.startswith('apricot'):\n",
        "    output = 0\n",
        "  elif file.startswith('daisy'):\n",
        "    output = 1\n",
        "  elif file.startswith('lotus'):\n",
        "    output = 2\n",
        "  elif file.startswith('rose'):\n",
        "    output = 3\n",
        "  elif file.startswith('waterlily'):\n",
        "    output = 4\n",
        "  else:\n",
        "    continue\n",
        "  photo = load_img(folder + file, target_size=(30, 40))\n",
        "  photo = img_to_array(photo)\n",
        "  photos.append(photo)\n",
        "  labels.append(output)\n",
        "photos = asarray(photos)\n",
        "labels = asarray(labels)\n",
        "save('photos.npy', photos)\n",
        "save('labels.npy', labels)"
      ],
      "metadata": {
        "id": "B1ZyroOEdbWm"
      },
      "execution_count": 2,
      "outputs": []
    },
    {
      "cell_type": "code",
      "source": [
        "!cp photos.npy \"/content/drive/My Drive/Colab Notebooks\"\n",
        "!cp labels.npy \"/content/drive/My Drive/Colab Notebooks\""
      ],
      "metadata": {
        "id": "dj8MtxoOhYeU"
      },
      "execution_count": 3,
      "outputs": []
    },
    {
      "cell_type": "code",
      "source": [
        "from sklearn.model_selection import train_test_split\n",
        "import numpy as np\n",
        "photos = np.load('/content/drive/My Drive/Colab Notebooks/photos.npy')\n",
        "labels = np.load('/content/drive/My Drive/Colab Notebooks/labels.npy')\n",
        "\n",
        "x_train, x_test, y_train, y_test = train_test_split(photos, labels, test_size=0.1)"
      ],
      "metadata": {
        "id": "AYUmYgb7hebE"
      },
      "execution_count": 4,
      "outputs": []
    },
    {
      "cell_type": "code",
      "source": [
        "x_train.shape\n"
      ],
      "metadata": {
        "colab": {
          "base_uri": "https://localhost:8080/"
        },
        "id": "EuX1953phiUL",
        "outputId": "62d1592f-5443-432a-cafa-3aec480aa352"
      },
      "execution_count": 5,
      "outputs": [
        {
          "output_type": "execute_result",
          "data": {
            "text/plain": [
              "(1093, 30, 40, 3)"
            ]
          },
          "metadata": {},
          "execution_count": 5
        }
      ]
    },
    {
      "cell_type": "code",
      "source": [
        "x_test.shape"
      ],
      "metadata": {
        "colab": {
          "base_uri": "https://localhost:8080/"
        },
        "id": "6PLdstWkhlob",
        "outputId": "0269164c-9aa9-414c-e989-59cb0ec087e0"
      },
      "execution_count": 6,
      "outputs": [
        {
          "output_type": "execute_result",
          "data": {
            "text/plain": [
              "(122, 30, 40, 3)"
            ]
          },
          "metadata": {},
          "execution_count": 6
        }
      ]
    },
    {
      "cell_type": "code",
      "source": [
        "x_train = x_train.reshape(1093, 30, 40, 3)\n",
        "x_test = x_test.reshape(122, 30, 40, 3)\n",
        "x_train = x_train.astype('float32') / 255\n",
        "x_test = x_test.astype('float32') / 255"
      ],
      "metadata": {
        "id": "Hj63i_njho0a"
      },
      "execution_count": 7,
      "outputs": []
    },
    {
      "cell_type": "code",
      "source": [
        "labels_flower = ['apricot','daisy','lotus','rose','waterlily']"
      ],
      "metadata": {
        "id": "wcmXPKvij9Rh"
      },
      "execution_count": 8,
      "outputs": []
    },
    {
      "cell_type": "code",
      "source": [
        "from matplotlib import pyplot as plt\n",
        "# Plot the first two images of the training set\n",
        "plt.figure(figsize=(10, 10))\n",
        "plt.subplot(121)\n",
        "plt.imshow(x_train[0], cmap='gray')\n",
        "plt.title(\"Number: {}\".format(labels_flower[y_train[0]]))\n",
        "plt.subplot(122)\n",
        "plt.imshow(x_test[20], cmap='gray')\n",
        "plt.title(\"Number: {}\".format(labels_flower[y_test[20]]))\n",
        "plt.show()"
      ],
      "metadata": {
        "colab": {
          "base_uri": "https://localhost:8080/",
          "height": 347
        },
        "id": "WZcCaGEOiMJk",
        "outputId": "4c91448b-4f5a-4870-f810-9b11894820bf"
      },
      "execution_count": 9,
      "outputs": [
        {
          "output_type": "display_data",
          "data": {
            "text/plain": [
              "<Figure size 1000x1000 with 2 Axes>"
            ],
            "image/png": "[encoded data removed]"
          },
          "metadata": {}
        }
      ]
    },
    {
      "cell_type": "code",
      "source": [
        "from keras.utils import to_categorical\n",
        "y_train = to_categorical(y_train, 5)\n",
        "y_test = to_categorical(y_test, 5)"
      ],
      "metadata": {
        "id": "KafrdgvoibG_"
      },
      "execution_count": 10,
      "outputs": []
    },
    {
      "cell_type": "code",
      "source": [
        "from keras.models import Sequential\n",
        "from keras.layers import Dense, Conv2D, Flatten, MaxPooling2D, LeakyReLU, Dropout\n",
        "model = Sequential()\n",
        "\n",
        "model.add(Conv2D(32, kernel_size=3, activation='linear', input_shape=(30, 40, 3)))\n",
        "model.add(LeakyReLU(alpha=0.1))\n",
        "model.add(MaxPooling2D(pool_size=(2, 2)))\n",
        "model.add(Dropout(0.25))\n",
        "\n",
        "model.add(Conv2D(64, kernel_size=3, activation='linear', padding = 'same'))\n",
        "model.add(LeakyReLU(alpha=0.1))\n",
        "model.add(MaxPooling2D(pool_size=(2, 2)))\n",
        "model.add(Dropout(0.25))\n",
        "\n",
        "model.add(Conv2D(128, kernel_size=3, activation='linear', padding = 'same'))\n",
        "model.add(LeakyReLU(alpha=0.1))\n",
        "model.add(MaxPooling2D(pool_size=(2, 2)))\n",
        "model.add(Dropout(0.4))\n",
        "\n",
        "model.add(Flatten())\n",
        "\n",
        "model.add(Dense(128, activation='linear'))\n",
        "model.add(LeakyReLU(alpha=0.1))\n",
        "model.add(Dropout(0.3))\n",
        "\n",
        "model.add(Dense(5, activation='softmax'))\n",
        "\n",
        "model.summary()\n"
      ],
      "metadata": {
        "colab": {
          "base_uri": "https://localhost:8080/"
        },
        "id": "aMISktVUilK-",
        "outputId": "29209a37-46a5-499b-d6e6-097de16383d1"
      },
      "execution_count": 11,
      "outputs": [
        {
          "output_type": "stream",
          "name": "stdout",
          "text": [
            "Model: \"sequential\"\n",
            "_________________________________________________________________\n",
            " Layer (type)                Output Shape              Param #   \n",
            "=================================================================\n",
            " conv2d (Conv2D)             (None, 28, 38, 32)        896       \n",
            "                                                                 \n",
            " leaky_re_lu (LeakyReLU)     (None, 28, 38, 32)        0         \n",
            "                                                                 \n",
            " max_pooling2d (MaxPooling2D  (None, 14, 19, 32)       0         \n",
            " )                                                               \n",
            "                                                                 \n",
            " dropout (Dropout)           (None, 14, 19, 32)        0         \n",
            "                                                                 \n",
            " conv2d_1 (Conv2D)           (None, 14, 19, 64)        18496     \n",
            "                                                                 \n",
            " leaky_re_lu_1 (LeakyReLU)   (None, 14, 19, 64)        0         \n",
            "                                                                 \n",
            " max_pooling2d_1 (MaxPooling  (None, 7, 9, 64)         0         \n",
            " 2D)                                                             \n",
            "                                                                 \n",
            " dropout_1 (Dropout)         (None, 7, 9, 64)          0         \n",
            "                                                                 \n",
            " conv2d_2 (Conv2D)           (None, 7, 9, 128)         73856     \n",
            "                                                                 \n",
            " leaky_re_lu_2 (LeakyReLU)   (None, 7, 9, 128)         0         \n",
            "                                                                 \n",
            " max_pooling2d_2 (MaxPooling  (None, 3, 4, 128)        0         \n",
            " 2D)                                                             \n",
            "                                                                 \n",
            " dropout_2 (Dropout)         (None, 3, 4, 128)         0         \n",
            "                                                                 \n",
            " flatten (Flatten)           (None, 1536)              0         \n",
            "                                                                 \n",
            " dense (Dense)               (None, 128)               196736    \n",
            "                                                                 \n",
            " leaky_re_lu_3 (LeakyReLU)   (None, 128)               0         \n",
            "                                                                 \n",
            " dropout_3 (Dropout)         (None, 128)               0         \n",
            "                                                                 \n",
            " dense_1 (Dense)             (None, 5)                 645       \n",
            "                                                                 \n",
            "=================================================================\n",
            "Total params: 290,629\n",
            "Trainable params: 290,629\n",
            "Non-trainable params: 0\n",
            "_________________________________________________________________\n"
          ]
        }
      ]
    },
    {
      "cell_type": "code",
      "source": [
        "from keras.callbacks import EarlyStopping\n",
        "early_stopping = EarlyStopping(monitor='val_accuracy', patience=10, verbose=1, mode='max')\n",
        "model.compile(optimizer='adam', loss='categorical_crossentropy', metrics=['accuracy'])\n"
      ],
      "metadata": {
        "id": "CIljfEFRipJU"
      },
      "execution_count": 12,
      "outputs": []
    },
    {
      "cell_type": "code",
      "source": [
        "model.fit(x_train, y_train, batch_size=12, epochs=100, verbose=1)"
      ],
      "metadata": {
        "colab": {
          "base_uri": "https://localhost:8080/"
        },
        "id": "l0v75CiBi62v",
        "outputId": "1e15be4e-1993-4fd8-abe7-2da07eb213c0"
      },
      "execution_count": 13,
      "outputs": [
        {
          "output_type": "stream",
          "name": "stdout",
          "text": [
            "Epoch 1/100\n",
            "92/92 [==============================] - 11s 11ms/step - loss: 1.1962 - accuracy: 0.5142\n",
            "Epoch 2/100\n",
            "92/92 [==============================] - 1s 8ms/step - loss: 0.7432 - accuracy: 0.6981\n",
            "Epoch 3/100\n",
            "92/92 [==============================] - 1s 7ms/step - loss: 0.5849 - accuracy: 0.7795\n",
            "Epoch 4/100\n",
            "92/92 [==============================] - 1s 8ms/step - loss: 0.5349 - accuracy: 0.7923\n",
            "Epoch 5/100\n",
            "92/92 [==============================] - 1s 7ms/step - loss: 0.4935 - accuracy: 0.8005\n",
            "Epoch 6/100\n",
            "92/92 [==============================] - 1s 8ms/step - loss: 0.4191 - accuracy: 0.8435\n",
            "Epoch 7/100\n",
            "92/92 [==============================] - 1s 10ms/step - loss: 0.3859 - accuracy: 0.8554\n",
            "Epoch 8/100\n",
            "92/92 [==============================] - 1s 12ms/step - loss: 0.4095 - accuracy: 0.8536\n",
            "Epoch 9/100\n",
            "92/92 [==============================] - 1s 12ms/step - loss: 0.3576 - accuracy: 0.8582\n",
            "Epoch 10/100\n",
            "92/92 [==============================] - 1s 5ms/step - loss: 0.3085 - accuracy: 0.8884\n",
            "Epoch 11/100\n",
            "92/92 [==============================] - 0s 5ms/step - loss: 0.2869 - accuracy: 0.8975\n",
            "Epoch 12/100\n",
            "92/92 [==============================] - 0s 4ms/step - loss: 0.2656 - accuracy: 0.9030\n",
            "Epoch 13/100\n",
            "92/92 [==============================] - 0s 5ms/step - loss: 0.2395 - accuracy: 0.9048\n",
            "Epoch 14/100\n",
            "92/92 [==============================] - 0s 5ms/step - loss: 0.2164 - accuracy: 0.9204\n",
            "Epoch 15/100\n",
            "92/92 [==============================] - 0s 5ms/step - loss: 0.2144 - accuracy: 0.9213\n",
            "Epoch 16/100\n",
            "92/92 [==============================] - 0s 5ms/step - loss: 0.2117 - accuracy: 0.9186\n",
            "Epoch 17/100\n",
            "92/92 [==============================] - 0s 5ms/step - loss: 0.1749 - accuracy: 0.9250\n",
            "Epoch 18/100\n",
            "92/92 [==============================] - 0s 4ms/step - loss: 0.1943 - accuracy: 0.9286\n",
            "Epoch 19/100\n",
            "92/92 [==============================] - 0s 4ms/step - loss: 0.1768 - accuracy: 0.9378\n",
            "Epoch 20/100\n",
            "92/92 [==============================] - 0s 5ms/step - loss: 0.2214 - accuracy: 0.9241\n",
            "Epoch 21/100\n",
            "92/92 [==============================] - 0s 4ms/step - loss: 0.1572 - accuracy: 0.9433\n",
            "Epoch 22/100\n",
            "92/92 [==============================] - 0s 4ms/step - loss: 0.1027 - accuracy: 0.9625\n",
            "Epoch 23/100\n",
            "92/92 [==============================] - 0s 4ms/step - loss: 0.1148 - accuracy: 0.9570\n",
            "Epoch 24/100\n",
            "92/92 [==============================] - 0s 5ms/step - loss: 0.1479 - accuracy: 0.9478\n",
            "Epoch 25/100\n",
            "92/92 [==============================] - 0s 5ms/step - loss: 0.1107 - accuracy: 0.9588\n",
            "Epoch 26/100\n",
            "92/92 [==============================] - 0s 4ms/step - loss: 0.1045 - accuracy: 0.9561\n",
            "Epoch 27/100\n",
            "92/92 [==============================] - 0s 5ms/step - loss: 0.0941 - accuracy: 0.9625\n",
            "Epoch 28/100\n",
            "92/92 [==============================] - 0s 4ms/step - loss: 0.0999 - accuracy: 0.9616\n",
            "Epoch 29/100\n",
            "92/92 [==============================] - 0s 4ms/step - loss: 0.1047 - accuracy: 0.9643\n",
            "Epoch 30/100\n",
            "92/92 [==============================] - 0s 4ms/step - loss: 0.0794 - accuracy: 0.9698\n",
            "Epoch 31/100\n",
            "92/92 [==============================] - 0s 5ms/step - loss: 0.0821 - accuracy: 0.9680\n",
            "Epoch 32/100\n",
            "92/92 [==============================] - 0s 5ms/step - loss: 0.1187 - accuracy: 0.9652\n",
            "Epoch 33/100\n",
            "92/92 [==============================] - 0s 5ms/step - loss: 0.0719 - accuracy: 0.9744\n",
            "Epoch 34/100\n",
            "92/92 [==============================] - 1s 6ms/step - loss: 0.0895 - accuracy: 0.9652\n",
            "Epoch 35/100\n",
            "92/92 [==============================] - 1s 6ms/step - loss: 0.0811 - accuracy: 0.9780\n",
            "Epoch 36/100\n",
            "92/92 [==============================] - 1s 6ms/step - loss: 0.0456 - accuracy: 0.9844\n",
            "Epoch 37/100\n",
            "92/92 [==============================] - 1s 6ms/step - loss: 0.0853 - accuracy: 0.9726\n",
            "Epoch 38/100\n",
            "92/92 [==============================] - 1s 6ms/step - loss: 0.0696 - accuracy: 0.9753\n",
            "Epoch 39/100\n",
            "92/92 [==============================] - 1s 6ms/step - loss: 0.0770 - accuracy: 0.9753\n",
            "Epoch 40/100\n",
            "92/92 [==============================] - 0s 4ms/step - loss: 0.0552 - accuracy: 0.9808\n",
            "Epoch 41/100\n",
            "92/92 [==============================] - 0s 5ms/step - loss: 0.0674 - accuracy: 0.9780\n",
            "Epoch 42/100\n",
            "92/92 [==============================] - 0s 5ms/step - loss: 0.0542 - accuracy: 0.9799\n",
            "Epoch 43/100\n",
            "92/92 [==============================] - 0s 4ms/step - loss: 0.0547 - accuracy: 0.9780\n",
            "Epoch 44/100\n",
            "92/92 [==============================] - 0s 5ms/step - loss: 0.0860 - accuracy: 0.9753\n",
            "Epoch 45/100\n",
            "92/92 [==============================] - 0s 4ms/step - loss: 0.0505 - accuracy: 0.9817\n",
            "Epoch 46/100\n",
            "92/92 [==============================] - 0s 4ms/step - loss: 0.0601 - accuracy: 0.9808\n",
            "Epoch 47/100\n",
            "92/92 [==============================] - 0s 4ms/step - loss: 0.2218 - accuracy: 0.9506\n",
            "Epoch 48/100\n",
            "92/92 [==============================] - 0s 4ms/step - loss: 0.0658 - accuracy: 0.9790\n",
            "Epoch 49/100\n",
            "92/92 [==============================] - 0s 4ms/step - loss: 0.0543 - accuracy: 0.9808\n",
            "Epoch 50/100\n",
            "92/92 [==============================] - 0s 4ms/step - loss: 0.0391 - accuracy: 0.9872\n",
            "Epoch 51/100\n",
            "92/92 [==============================] - 0s 4ms/step - loss: 0.0205 - accuracy: 0.9899\n",
            "Epoch 52/100\n",
            "92/92 [==============================] - 0s 5ms/step - loss: 0.0338 - accuracy: 0.9909\n",
            "Epoch 53/100\n",
            "92/92 [==============================] - 0s 4ms/step - loss: 0.0481 - accuracy: 0.9872\n",
            "Epoch 54/100\n",
            "92/92 [==============================] - 0s 5ms/step - loss: 0.0431 - accuracy: 0.9854\n",
            "Epoch 55/100\n",
            "92/92 [==============================] - 0s 4ms/step - loss: 0.0287 - accuracy: 0.9918\n",
            "Epoch 56/100\n",
            "92/92 [==============================] - 0s 4ms/step - loss: 0.0582 - accuracy: 0.9817\n",
            "Epoch 57/100\n",
            "92/92 [==============================] - 0s 4ms/step - loss: 0.1091 - accuracy: 0.9625\n",
            "Epoch 58/100\n",
            "92/92 [==============================] - 0s 4ms/step - loss: 0.0590 - accuracy: 0.9863\n",
            "Epoch 59/100\n",
            "92/92 [==============================] - 0s 5ms/step - loss: 0.0202 - accuracy: 0.9963\n",
            "Epoch 60/100\n",
            "92/92 [==============================] - 0s 4ms/step - loss: 0.0611 - accuracy: 0.9844\n",
            "Epoch 61/100\n",
            "92/92 [==============================] - 0s 5ms/step - loss: 0.0714 - accuracy: 0.9844\n",
            "Epoch 62/100\n",
            "92/92 [==============================] - 0s 4ms/step - loss: 0.0504 - accuracy: 0.9826\n",
            "Epoch 63/100\n",
            "92/92 [==============================] - 0s 5ms/step - loss: 0.0282 - accuracy: 0.9909\n",
            "Epoch 64/100\n",
            "92/92 [==============================] - 1s 6ms/step - loss: 0.0390 - accuracy: 0.9854\n",
            "Epoch 65/100\n",
            "92/92 [==============================] - 1s 6ms/step - loss: 0.0295 - accuracy: 0.9899\n",
            "Epoch 66/100\n",
            "92/92 [==============================] - 1s 6ms/step - loss: 0.0188 - accuracy: 0.9945\n",
            "Epoch 67/100\n",
            "92/92 [==============================] - 1s 6ms/step - loss: 0.0267 - accuracy: 0.9927\n",
            "Epoch 68/100\n",
            "92/92 [==============================] - 1s 6ms/step - loss: 0.0227 - accuracy: 0.9918\n",
            "Epoch 69/100\n",
            "92/92 [==============================] - 1s 6ms/step - loss: 0.0295 - accuracy: 0.9918\n",
            "Epoch 70/100\n",
            "92/92 [==============================] - 0s 5ms/step - loss: 0.0958 - accuracy: 0.9689\n",
            "Epoch 71/100\n",
            "92/92 [==============================] - 0s 5ms/step - loss: 0.0709 - accuracy: 0.9689\n",
            "Epoch 72/100\n",
            "92/92 [==============================] - 0s 4ms/step - loss: 0.0531 - accuracy: 0.9780\n",
            "Epoch 73/100\n",
            "92/92 [==============================] - 0s 5ms/step - loss: 0.0529 - accuracy: 0.9826\n",
            "Epoch 74/100\n",
            "92/92 [==============================] - 0s 5ms/step - loss: 0.0649 - accuracy: 0.9780\n",
            "Epoch 75/100\n",
            "92/92 [==============================] - 0s 4ms/step - loss: 0.0348 - accuracy: 0.9863\n",
            "Epoch 76/100\n",
            "92/92 [==============================] - 0s 5ms/step - loss: 0.0426 - accuracy: 0.9881\n",
            "Epoch 77/100\n",
            "92/92 [==============================] - 0s 5ms/step - loss: 0.0278 - accuracy: 0.9927\n",
            "Epoch 78/100\n",
            "92/92 [==============================] - 0s 5ms/step - loss: 0.0181 - accuracy: 0.9954\n",
            "Epoch 79/100\n",
            "92/92 [==============================] - 0s 5ms/step - loss: 0.0650 - accuracy: 0.9799\n",
            "Epoch 80/100\n",
            "92/92 [==============================] - 0s 5ms/step - loss: 0.0544 - accuracy: 0.9872\n",
            "Epoch 81/100\n",
            "92/92 [==============================] - 0s 5ms/step - loss: 0.0264 - accuracy: 0.9899\n",
            "Epoch 82/100\n",
            "92/92 [==============================] - 0s 5ms/step - loss: 0.0183 - accuracy: 0.9927\n",
            "Epoch 83/100\n",
            "92/92 [==============================] - 0s 5ms/step - loss: 0.0438 - accuracy: 0.9844\n",
            "Epoch 84/100\n",
            "92/92 [==============================] - 0s 5ms/step - loss: 0.0772 - accuracy: 0.9744\n",
            "Epoch 85/100\n",
            "92/92 [==============================] - 0s 5ms/step - loss: 0.0484 - accuracy: 0.9808\n",
            "Epoch 86/100\n",
            "92/92 [==============================] - 0s 5ms/step - loss: 0.0444 - accuracy: 0.9890\n",
            "Epoch 87/100\n",
            "92/92 [==============================] - 0s 5ms/step - loss: 0.0254 - accuracy: 0.9909\n",
            "Epoch 88/100\n",
            "92/92 [==============================] - 0s 5ms/step - loss: 0.0183 - accuracy: 0.9936\n",
            "Epoch 89/100\n",
            "92/92 [==============================] - 0s 5ms/step - loss: 0.0183 - accuracy: 0.9927\n",
            "Epoch 90/100\n",
            "92/92 [==============================] - 0s 5ms/step - loss: 0.0287 - accuracy: 0.9890\n",
            "Epoch 91/100\n",
            "92/92 [==============================] - 0s 5ms/step - loss: 0.2015 - accuracy: 0.9497\n",
            "Epoch 92/100\n",
            "92/92 [==============================] - 0s 5ms/step - loss: 0.0459 - accuracy: 0.9835\n",
            "Epoch 93/100\n",
            "92/92 [==============================] - 1s 6ms/step - loss: 0.0476 - accuracy: 0.9863\n",
            "Epoch 94/100\n",
            "92/92 [==============================] - 1s 6ms/step - loss: 0.0381 - accuracy: 0.9899\n",
            "Epoch 95/100\n",
            "92/92 [==============================] - 1s 6ms/step - loss: 0.0243 - accuracy: 0.9936\n",
            "Epoch 96/100\n",
            "92/92 [==============================] - 1s 6ms/step - loss: 0.0381 - accuracy: 0.9872\n",
            "Epoch 97/100\n",
            "92/92 [==============================] - 1s 6ms/step - loss: 0.0474 - accuracy: 0.9863\n",
            "Epoch 98/100\n",
            "92/92 [==============================] - 1s 6ms/step - loss: 0.0263 - accuracy: 0.9918\n",
            "Epoch 99/100\n",
            "92/92 [==============================] - 0s 5ms/step - loss: 0.0131 - accuracy: 0.9963\n",
            "Epoch 100/100\n",
            "92/92 [==============================] - 0s 5ms/step - loss: 0.0026 - accuracy: 1.0000\n"
          ]
        },
        {
          "output_type": "execute_result",
          "data": {
            "text/plain": [
              "<keras.callbacks.History at 0x7fa024f9beb0>"
            ]
          },
          "metadata": {},
          "execution_count": 13
        }
      ]
    },
    {
      "cell_type": "code",
      "source": [
        "test_loss,test_acc=model.evaluate(x_test,y_test)\n",
        "\n",
        "print('test_acc:',test_acc)\n",
        "print('test_loss:',test_loss)"
      ],
      "metadata": {
        "colab": {
          "base_uri": "https://localhost:8080/"
        },
        "id": "9yMRQE9Mjk4w",
        "outputId": "ee2b2881-efec-46dd-a9b1-749ac3f20197"
      },
      "execution_count": 14,
      "outputs": [
        {
          "output_type": "stream",
          "name": "stdout",
          "text": [
            "4/4 [==============================] - 0s 36ms/step - loss: 0.6927 - accuracy: 0.9098\n",
            "test_acc: 0.9098360538482666\n",
            "test_loss: 0.6926783323287964\n"
          ]
        }
      ]
    },
    {
      "cell_type": "code",
      "source": [
        "model.save('/content/drive/My Drive/Colab Notebooks/flower.h5')"
      ],
      "metadata": {
        "id": "EXStd-DAjy14"
      },
      "execution_count": 15,
      "outputs": []
    },
    {
      "cell_type": "code",
      "source": [
        "\n",
        "img = load_img('/content/drive/My Drive/Colab Notebooks/lotus2.jpg',target_size=(30,40))\n",
        "plt.imshow(img)\n",
        "img = img_to_array(img)\n",
        "img = img.reshape(1, 30, 40, 3)\n",
        "img = img.astype('float32') / 255\n",
        "result = labels_flower[np.argmax(model.predict(img))]\n",
        "print(result)"
      ],
      "metadata": {
        "colab": {
          "base_uri": "https://localhost:8080/",
          "height": 466
        },
        "id": "CwQ-NK3kqOg8",
        "outputId": "904caf51-2164-4c5c-c210-c79c6a206709"
      },
      "execution_count": 16,
      "outputs": [
        {
          "output_type": "stream",
          "name": "stdout",
          "text": [
            "1/1 [==============================] - 0s 100ms/step\n",
            "lotus\n"
          ]
        },
        {
          "output_type": "display_data",
          "data": {
            "text/plain": [
              "<Figure size 640x480 with 1 Axes>"
            ],
            "image/png": "[encoded data removed]"
          },
          "metadata": {}
        }
      ]
    },
    {
      "cell_type": "code",
      "source": [
        "img1 = load_img('/content/drive/My Drive/Colab Notebooks/daisy.jpg',target_size=(30,40))\n",
        "plt.imshow(img1)\n",
        "img1 = img_to_array(img1)\n",
        "img1 = img1.reshape(1, 30, 40, 3)\n",
        "img1 = img1.astype('float32') / 255\n",
        "result1 = labels_flower[np.argmax(model.predict(img1))]\n",
        "print(result1)"
      ],
      "metadata": {
        "colab": {
          "base_uri": "https://localhost:8080/",
          "height": 466
        },
        "id": "QGSafKC3tFDd",
        "outputId": "125159c9-5a4b-41dc-c675-defe94b86338"
      },
      "execution_count": 17,
      "outputs": [
        {
          "output_type": "stream",
          "name": "stdout",
          "text": [
            "1/1 [==============================] - 0s 20ms/step\n",
            "daisy\n"
          ]
        },
        {
          "output_type": "display_data",
          "data": {
            "text/plain": [
              "<Figure size 640x480 with 1 Axes>"
            ],
            "image/png": "[encoded data removed]"
          },
          "metadata": {}
        }
      ]
    },
    {
      "cell_type": "code",
      "source": [
        "img2 = load_img('/content/drive/My Drive/Colab Notebooks/waterlily.jpg',target_size=(30,40))\n",
        "plt.imshow(img2)\n",
        "img2 = img_to_array(img2)\n",
        "img2 = img2.reshape(1, 30, 40, 3)\n",
        "img2 = img2.astype('float32') / 255\n",
        "result2 = labels_flower[np.argmax(model.predict(img2))]\n",
        "print(result2)"
      ],
      "metadata": {
        "colab": {
          "base_uri": "https://localhost:8080/",
          "height": 466
        },
        "id": "DmMW0q_ax_rJ",
        "outputId": "701866af-1362-4069-c7d9-85350d34b29a"
      },
      "execution_count": 32,
      "outputs": [
        {
          "output_type": "stream",
          "name": "stdout",
          "text": [
            "1/1 [==============================] - 0s 26ms/step\n",
            "waterlily\n"
          ]
        },
        {
          "output_type": "display_data",
          "data": {
            "text/plain": [
              "<Figure size 640x480 with 1 Axes>"
            ],
            "image/png": "[encoded data removed]"
          },
          "metadata": {}
        }
      ]
    },
    {
      "cell_type": "code",
      "source": [],
      "metadata": {
        "id": "cj0jXpVUyAI3"
      },
      "execution_count": null,
      "outputs": []
    }
  ]
}