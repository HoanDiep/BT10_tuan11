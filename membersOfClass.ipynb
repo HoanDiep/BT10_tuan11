{
  "nbformat": 4,
  "nbformat_minor": 0,
  "metadata": {
    "colab": {
      "provenance": [],
      "authorship_tag": "ABX9TyNIv1UEXR6gLS/X3aP1h7f7",
      "include_colab_link": true
    },
    "kernelspec": {
      "name": "python3",
      "display_name": "Python 3"
    },
    "language_info": {
      "name": "python"
    },
    "accelerator": "GPU",
    "gpuClass": "standard"
  },
  "cells": [
    {
      "cell_type": "markdown",
      "metadata": {
        "id": "view-in-github",
        "colab_type": "text"
      },
      "source": [
        "<a href=\"https://colab.research.google.com/github/HoanDiep/BT10_tuan11/blob/main/membersOfClass.ipynb\" target=\"_parent\"><img src=\"https://colab.research.google.com/assets/colab-badge.svg\" alt=\"Open In Colab\"/></a>"
      ]
    },
    {
      "cell_type": "code",
      "execution_count": 1,
      "metadata": {
        "colab": {
          "base_uri": "https://localhost:8080/"
        },
        "id": "XNfTzZfpdJad",
        "outputId": "3f722570-a025-4155-a8d2-d238e3c76292"
      },
      "outputs": [
        {
          "output_type": "stream",
          "name": "stdout",
          "text": [
            "Drive already mounted at /content/drive; to attempt to forcibly remount, call drive.mount(\"/content/drive\", force_remount=True).\n"
          ]
        }
      ],
      "source": [
        "from os import listdir\n",
        "from numpy import asarray\n",
        "from numpy import save\n",
        "from keras.utils import load_img, img_to_array\n",
        "import matplotlib.pyplot as plt\n",
        "from google.colab import drive\n",
        "drive.mount('/content/drive')"
      ]
    },
    {
      "cell_type": "code",
      "source": [
        "folder = '/content/drive/My Drive/Colab Notebooks/lop/'\n",
        "photos, labels = list(), list()\n",
        "for file in listdir(folder):\n",
        "  if file.startswith('HOAN'):\n",
        "    output = 0\n",
        "  elif file.startswith('DUY'):\n",
        "    output = 1\n",
        "  elif file.startswith('CHI'):\n",
        "    output = 2\n",
        "  elif file.startswith('PHONG'):\n",
        "    output = 3\n",
        "  elif file.startswith('NAM'):\n",
        "    output = 4\n",
        "  elif file.startswith('THANG'):\n",
        "    output = 5\n",
        "  elif file.startswith('DONG'):\n",
        "    output = 6\n",
        "  else:\n",
        "    continue\n",
        "  photo = load_img(folder + file, target_size=(30, 40))\n",
        "  photo = img_to_array(photo)\n",
        "  photos.append(photo)\n",
        "  labels.append(output)\n",
        "photos = asarray(photos)\n",
        "labels = asarray(labels)\n",
        "save('photos.npy', photos)\n",
        "save('labels.npy', labels)"
      ],
      "metadata": {
        "id": "B1ZyroOEdbWm"
      },
      "execution_count": 2,
      "outputs": []
    },
    {
      "cell_type": "code",
      "source": [
        "!cp photos.npy \"/content/drive/My Drive/Colab Notebooks/dataset_members\"\n",
        "!cp labels.npy \"/content/drive/My Drive/Colab Notebooks/dataset_members\""
      ],
      "metadata": {
        "id": "dj8MtxoOhYeU"
      },
      "execution_count": 3,
      "outputs": []
    },
    {
      "cell_type": "code",
      "source": [
        "from sklearn.model_selection import train_test_split\n",
        "import numpy as np\n",
        "photos = np.load('/content/drive/My Drive/Colab Notebooks/dataset_members/photos.npy')\n",
        "labels = np.load('/content/drive/My Drive/Colab Notebooks/dataset_members/labels.npy')\n",
        "\n",
        "x_train, x_test, y_train, y_test = train_test_split(photos, labels, test_size=0.1)"
      ],
      "metadata": {
        "id": "AYUmYgb7hebE"
      },
      "execution_count": 4,
      "outputs": []
    },
    {
      "cell_type": "code",
      "source": [
        "x_train.shape\n"
      ],
      "metadata": {
        "colab": {
          "base_uri": "https://localhost:8080/"
        },
        "id": "EuX1953phiUL",
        "outputId": "b5b04986-86df-4c70-d05b-8c1edf06d046"
      },
      "execution_count": 5,
      "outputs": [
        {
          "output_type": "execute_result",
          "data": {
            "text/plain": [
              "(422, 30, 40, 3)"
            ]
          },
          "metadata": {},
          "execution_count": 5
        }
      ]
    },
    {
      "cell_type": "code",
      "source": [
        "x_test.shape"
      ],
      "metadata": {
        "colab": {
          "base_uri": "https://localhost:8080/"
        },
        "id": "6PLdstWkhlob",
        "outputId": "4e584f1f-4c88-481e-edfe-4bcc1c18640e"
      },
      "execution_count": 6,
      "outputs": [
        {
          "output_type": "execute_result",
          "data": {
            "text/plain": [
              "(47, 30, 40, 3)"
            ]
          },
          "metadata": {},
          "execution_count": 6
        }
      ]
    },
    {
      "cell_type": "code",
      "source": [
        "x_train = x_train.reshape(422, 30, 40, 3)\n",
        "x_test = x_test.reshape(47, 30, 40, 3)\n",
        "x_train = x_train.astype('float32') / 255\n",
        "x_test = x_test.astype('float32') / 255"
      ],
      "metadata": {
        "id": "Hj63i_njho0a"
      },
      "execution_count": 7,
      "outputs": []
    },
    {
      "cell_type": "code",
      "source": [
        "labels_members = ['HOAN','DUY','CHI','PHONG','NAM','THANG','DONG']"
      ],
      "metadata": {
        "id": "wcmXPKvij9Rh"
      },
      "execution_count": 8,
      "outputs": []
    },
    {
      "cell_type": "code",
      "source": [
        "from matplotlib import pyplot as plt\n",
        "\n",
        "plt.figure(figsize=(10, 10))\n",
        "plt.subplot(121)\n",
        "plt.imshow(x_train[0], cmap='gray')\n",
        "plt.title(\"{}\".format(labels_members[y_train[0]]))\n",
        "plt.subplot(122)\n",
        "plt.imshow(x_test[20], cmap='gray')\n",
        "plt.title(\"{}\".format(labels_members[y_test[20]]))\n",
        "plt.show()"
      ],
      "metadata": {
        "colab": {
          "base_uri": "https://localhost:8080/",
          "height": 327
        },
        "id": "WZcCaGEOiMJk",
        "outputId": "f203fd20-6aff-426e-b1cd-8c0f9419bdf2"
      },
      "execution_count": 9,
      "outputs": [
        {
          "output_type": "display_data",
          "data": {
            "text/plain": [
              "<Figure size 1000x1000 with 2 Axes>"
            ],
            "image/png": "[encoded data removed]"
          },
          "metadata": {}
        }
      ]
    },
    {
      "cell_type": "code",
      "source": [
        "from keras.utils import to_categorical\n",
        "y_train = to_categorical(y_train, 7)\n",
        "y_test = to_categorical(y_test, 7)"
      ],
      "metadata": {
        "id": "KafrdgvoibG_"
      },
      "execution_count": 10,
      "outputs": []
    },
    {
      "cell_type": "code",
      "source": [
        "from keras.models import Sequential\n",
        "from keras.layers import Dense, Conv2D, Flatten, MaxPooling2D, LeakyReLU, Dropout\n",
        "model = Sequential()\n",
        "\n",
        "model.add(Conv2D(32, kernel_size=3, activation='linear', input_shape=(30, 40, 3)))\n",
        "model.add(LeakyReLU(alpha=0.1))\n",
        "model.add(MaxPooling2D(pool_size=(2, 2)))\n",
        "model.add(Dropout(0.25))\n",
        "\n",
        "model.add(Conv2D(64, kernel_size=3, activation='linear', padding = 'same'))\n",
        "model.add(LeakyReLU(alpha=0.1))\n",
        "model.add(MaxPooling2D(pool_size=(2, 2)))\n",
        "model.add(Dropout(0.25))\n",
        "\n",
        "model.add(Conv2D(128, kernel_size=3, activation='linear', padding = 'same'))\n",
        "model.add(LeakyReLU(alpha=0.1))\n",
        "model.add(MaxPooling2D(pool_size=(2, 2)))\n",
        "model.add(Dropout(0.4))\n",
        "\n",
        "model.add(Flatten())\n",
        "\n",
        "model.add(Dense(128, activation='linear'))\n",
        "model.add(LeakyReLU(alpha=0.1))\n",
        "model.add(Dropout(0.3))\n",
        "\n",
        "model.add(Dense(64, activation='linear'))\n",
        "\n",
        "model.add(Dense(7, activation='softmax'))\n",
        "\n",
        "model.summary()\n"
      ],
      "metadata": {
        "colab": {
          "base_uri": "https://localhost:8080/"
        },
        "id": "aMISktVUilK-",
        "outputId": "e157f1de-2af5-455d-8ca0-03e27675c8d0"
      },
      "execution_count": 11,
      "outputs": [
        {
          "output_type": "stream",
          "name": "stdout",
          "text": [
            "Model: \"sequential\"\n",
            "_________________________________________________________________\n",
            " Layer (type)                Output Shape              Param #   \n",
            "=================================================================\n",
            " conv2d (Conv2D)             (None, 28, 38, 32)        896       \n",
            "                                                                 \n",
            " leaky_re_lu (LeakyReLU)     (None, 28, 38, 32)        0         \n",
            "                                                                 \n",
            " max_pooling2d (MaxPooling2D  (None, 14, 19, 32)       0         \n",
            " )                                                               \n",
            "                                                                 \n",
            " dropout (Dropout)           (None, 14, 19, 32)        0         \n",
            "                                                                 \n",
            " conv2d_1 (Conv2D)           (None, 14, 19, 64)        18496     \n",
            "                                                                 \n",
            " leaky_re_lu_1 (LeakyReLU)   (None, 14, 19, 64)        0         \n",
            "                                                                 \n",
            " max_pooling2d_1 (MaxPooling  (None, 7, 9, 64)         0         \n",
            " 2D)                                                             \n",
            "                                                                 \n",
            " dropout_1 (Dropout)         (None, 7, 9, 64)          0         \n",
            "                                                                 \n",
            " conv2d_2 (Conv2D)           (None, 7, 9, 128)         73856     \n",
            "                                                                 \n",
            " leaky_re_lu_2 (LeakyReLU)   (None, 7, 9, 128)         0         \n",
            "                                                                 \n",
            " max_pooling2d_2 (MaxPooling  (None, 3, 4, 128)        0         \n",
            " 2D)                                                             \n",
            "                                                                 \n",
            " dropout_2 (Dropout)         (None, 3, 4, 128)         0         \n",
            "                                                                 \n",
            " flatten (Flatten)           (None, 1536)              0         \n",
            "                                                                 \n",
            " dense (Dense)               (None, 128)               196736    \n",
            "                                                                 \n",
            " leaky_re_lu_3 (LeakyReLU)   (None, 128)               0         \n",
            "                                                                 \n",
            " dropout_3 (Dropout)         (None, 128)               0         \n",
            "                                                                 \n",
            " dense_1 (Dense)             (None, 64)                8256      \n",
            "                                                                 \n",
            " dense_2 (Dense)             (None, 7)                 455       \n",
            "                                                                 \n",
            "=================================================================\n",
            "Total params: 298,695\n",
            "Trainable params: 298,695\n",
            "Non-trainable params: 0\n",
            "_________________________________________________________________\n"
          ]
        }
      ]
    },
    {
      "cell_type": "code",
      "source": [
        "from keras.callbacks import EarlyStopping\n",
        "early_stopping = EarlyStopping(monitor='val_accuracy', patience=10, verbose=1, mode='max')\n",
        "model.compile(optimizer='adam', loss='categorical_crossentropy', metrics=['accuracy'])\n"
      ],
      "metadata": {
        "id": "CIljfEFRipJU"
      },
      "execution_count": 12,
      "outputs": []
    },
    {
      "cell_type": "code",
      "source": [
        "model.fit(x_train, y_train, batch_size=32, epochs=100, verbose=1)"
      ],
      "metadata": {
        "colab": {
          "base_uri": "https://localhost:8080/"
        },
        "id": "l0v75CiBi62v",
        "outputId": "0c1d8fc1-7720-4dab-b2e8-3241eb719d5e"
      },
      "execution_count": 13,
      "outputs": [
        {
          "output_type": "stream",
          "name": "stdout",
          "text": [
            "Epoch 1/100\n",
            "14/14 [==============================] - 10s 21ms/step - loss: 1.9186 - accuracy: 0.2370\n",
            "Epoch 2/100\n",
            "14/14 [==============================] - 0s 5ms/step - loss: 1.4527 - accuracy: 0.4526\n",
            "Epoch 3/100\n",
            "14/14 [==============================] - 0s 6ms/step - loss: 0.6048 - accuracy: 0.7725\n",
            "Epoch 4/100\n",
            "14/14 [==============================] - 0s 5ms/step - loss: 0.1868 - accuracy: 0.9431\n",
            "Epoch 5/100\n",
            "14/14 [==============================] - 0s 5ms/step - loss: 0.0864 - accuracy: 0.9692\n",
            "Epoch 6/100\n",
            "14/14 [==============================] - 0s 5ms/step - loss: 0.0504 - accuracy: 0.9858\n",
            "Epoch 7/100\n",
            "14/14 [==============================] - 0s 5ms/step - loss: 0.0367 - accuracy: 0.9834\n",
            "Epoch 8/100\n",
            "14/14 [==============================] - 0s 5ms/step - loss: 0.0123 - accuracy: 0.9976\n",
            "Epoch 9/100\n",
            "14/14 [==============================] - 0s 5ms/step - loss: 0.0182 - accuracy: 0.9929\n",
            "Epoch 10/100\n",
            "14/14 [==============================] - 0s 5ms/step - loss: 0.0182 - accuracy: 0.9953\n",
            "Epoch 11/100\n",
            "14/14 [==============================] - 0s 5ms/step - loss: 0.0221 - accuracy: 0.9882\n",
            "Epoch 12/100\n",
            "14/14 [==============================] - 0s 6ms/step - loss: 0.0291 - accuracy: 0.9905\n",
            "Epoch 13/100\n",
            "14/14 [==============================] - 0s 5ms/step - loss: 0.0086 - accuracy: 0.9976\n",
            "Epoch 14/100\n",
            "14/14 [==============================] - 0s 5ms/step - loss: 0.0068 - accuracy: 1.0000\n",
            "Epoch 15/100\n",
            "14/14 [==============================] - 0s 6ms/step - loss: 0.0018 - accuracy: 1.0000\n",
            "Epoch 16/100\n",
            "14/14 [==============================] - 0s 5ms/step - loss: 0.0023 - accuracy: 1.0000\n",
            "Epoch 17/100\n",
            "14/14 [==============================] - 0s 5ms/step - loss: 0.0203 - accuracy: 0.9929\n",
            "Epoch 18/100\n",
            "14/14 [==============================] - 0s 5ms/step - loss: 0.0151 - accuracy: 0.9929\n",
            "Epoch 19/100\n",
            "14/14 [==============================] - 0s 5ms/step - loss: 0.0060 - accuracy: 1.0000\n",
            "Epoch 20/100\n",
            "14/14 [==============================] - 0s 5ms/step - loss: 0.0018 - accuracy: 1.0000\n",
            "Epoch 21/100\n",
            "14/14 [==============================] - 0s 5ms/step - loss: 7.8344e-04 - accuracy: 1.0000\n",
            "Epoch 22/100\n",
            "14/14 [==============================] - 0s 5ms/step - loss: 8.2297e-04 - accuracy: 1.0000\n",
            "Epoch 23/100\n",
            "14/14 [==============================] - 0s 6ms/step - loss: 0.0021 - accuracy: 1.0000\n",
            "Epoch 24/100\n",
            "14/14 [==============================] - 0s 5ms/step - loss: 4.6691e-04 - accuracy: 1.0000\n",
            "Epoch 25/100\n",
            "14/14 [==============================] - 0s 6ms/step - loss: 0.0016 - accuracy: 1.0000\n",
            "Epoch 26/100\n",
            "14/14 [==============================] - 0s 5ms/step - loss: 0.0033 - accuracy: 0.9976\n",
            "Epoch 27/100\n",
            "14/14 [==============================] - 0s 5ms/step - loss: 0.0018 - accuracy: 1.0000\n",
            "Epoch 28/100\n",
            "14/14 [==============================] - 0s 6ms/step - loss: 3.2329e-04 - accuracy: 1.0000\n",
            "Epoch 29/100\n",
            "14/14 [==============================] - 0s 6ms/step - loss: 3.1386e-04 - accuracy: 1.0000\n",
            "Epoch 30/100\n",
            "14/14 [==============================] - 0s 5ms/step - loss: 2.1125e-04 - accuracy: 1.0000\n",
            "Epoch 31/100\n",
            "14/14 [==============================] - 0s 5ms/step - loss: 3.8944e-04 - accuracy: 1.0000\n",
            "Epoch 32/100\n",
            "14/14 [==============================] - 0s 5ms/step - loss: 0.0015 - accuracy: 1.0000\n",
            "Epoch 33/100\n",
            "14/14 [==============================] - 0s 5ms/step - loss: 0.0148 - accuracy: 0.9953\n",
            "Epoch 34/100\n",
            "14/14 [==============================] - 0s 5ms/step - loss: 0.0042 - accuracy: 1.0000\n",
            "Epoch 35/100\n",
            "14/14 [==============================] - 0s 5ms/step - loss: 0.0011 - accuracy: 1.0000\n",
            "Epoch 36/100\n",
            "14/14 [==============================] - 0s 5ms/step - loss: 0.0022 - accuracy: 1.0000\n",
            "Epoch 37/100\n",
            "14/14 [==============================] - 0s 5ms/step - loss: 0.0011 - accuracy: 1.0000\n",
            "Epoch 38/100\n",
            "14/14 [==============================] - 0s 6ms/step - loss: 0.0023 - accuracy: 1.0000\n",
            "Epoch 39/100\n",
            "14/14 [==============================] - 0s 7ms/step - loss: 0.0021 - accuracy: 1.0000\n",
            "Epoch 40/100\n",
            "14/14 [==============================] - 0s 5ms/step - loss: 5.8331e-04 - accuracy: 1.0000\n",
            "Epoch 41/100\n",
            "14/14 [==============================] - 0s 5ms/step - loss: 0.0017 - accuracy: 1.0000\n",
            "Epoch 42/100\n",
            "14/14 [==============================] - 0s 5ms/step - loss: 0.0011 - accuracy: 1.0000\n",
            "Epoch 43/100\n",
            "14/14 [==============================] - 0s 5ms/step - loss: 3.8089e-04 - accuracy: 1.0000\n",
            "Epoch 44/100\n",
            "14/14 [==============================] - 0s 5ms/step - loss: 8.9746e-05 - accuracy: 1.0000\n",
            "Epoch 45/100\n",
            "14/14 [==============================] - 0s 6ms/step - loss: 1.5983e-04 - accuracy: 1.0000\n",
            "Epoch 46/100\n",
            "14/14 [==============================] - 0s 5ms/step - loss: 1.3743e-04 - accuracy: 1.0000\n",
            "Epoch 47/100\n",
            "14/14 [==============================] - 0s 5ms/step - loss: 1.5660e-04 - accuracy: 1.0000\n",
            "Epoch 48/100\n",
            "14/14 [==============================] - 0s 5ms/step - loss: 2.1051e-04 - accuracy: 1.0000\n",
            "Epoch 49/100\n",
            "14/14 [==============================] - 0s 5ms/step - loss: 8.5087e-05 - accuracy: 1.0000\n",
            "Epoch 50/100\n",
            "14/14 [==============================] - 0s 6ms/step - loss: 6.7319e-05 - accuracy: 1.0000\n",
            "Epoch 51/100\n",
            "14/14 [==============================] - 0s 5ms/step - loss: 6.1979e-05 - accuracy: 1.0000\n",
            "Epoch 52/100\n",
            "14/14 [==============================] - 0s 6ms/step - loss: 4.6884e-05 - accuracy: 1.0000\n",
            "Epoch 53/100\n",
            "14/14 [==============================] - 0s 5ms/step - loss: 1.6533e-04 - accuracy: 1.0000\n",
            "Epoch 54/100\n",
            "14/14 [==============================] - 0s 5ms/step - loss: 7.8695e-05 - accuracy: 1.0000\n",
            "Epoch 55/100\n",
            "14/14 [==============================] - 0s 5ms/step - loss: 3.2063e-05 - accuracy: 1.0000\n",
            "Epoch 56/100\n",
            "14/14 [==============================] - 0s 5ms/step - loss: 3.9827e-05 - accuracy: 1.0000\n",
            "Epoch 57/100\n",
            "14/14 [==============================] - 0s 5ms/step - loss: 6.8975e-05 - accuracy: 1.0000\n",
            "Epoch 58/100\n",
            "14/14 [==============================] - 0s 5ms/step - loss: 9.1510e-05 - accuracy: 1.0000\n",
            "Epoch 59/100\n",
            "14/14 [==============================] - 0s 6ms/step - loss: 6.1237e-05 - accuracy: 1.0000\n",
            "Epoch 60/100\n",
            "14/14 [==============================] - 0s 5ms/step - loss: 4.3062e-05 - accuracy: 1.0000\n",
            "Epoch 61/100\n",
            "14/14 [==============================] - 0s 6ms/step - loss: 5.6705e-05 - accuracy: 1.0000\n",
            "Epoch 62/100\n",
            "14/14 [==============================] - 0s 6ms/step - loss: 3.9619e-05 - accuracy: 1.0000\n",
            "Epoch 63/100\n",
            "14/14 [==============================] - 0s 6ms/step - loss: 5.8909e-05 - accuracy: 1.0000\n",
            "Epoch 64/100\n",
            "14/14 [==============================] - 0s 5ms/step - loss: 3.4837e-05 - accuracy: 1.0000\n",
            "Epoch 65/100\n",
            "14/14 [==============================] - 0s 5ms/step - loss: 6.0430e-05 - accuracy: 1.0000\n",
            "Epoch 66/100\n",
            "14/14 [==============================] - 0s 6ms/step - loss: 6.8285e-05 - accuracy: 1.0000\n",
            "Epoch 67/100\n",
            "14/14 [==============================] - 0s 5ms/step - loss: 3.9471e-05 - accuracy: 1.0000\n",
            "Epoch 68/100\n",
            "14/14 [==============================] - 0s 5ms/step - loss: 1.2097e-05 - accuracy: 1.0000\n",
            "Epoch 69/100\n",
            "14/14 [==============================] - 0s 5ms/step - loss: 9.7446e-05 - accuracy: 1.0000\n",
            "Epoch 70/100\n",
            "14/14 [==============================] - 0s 6ms/step - loss: 5.1314e-05 - accuracy: 1.0000\n",
            "Epoch 71/100\n",
            "14/14 [==============================] - 0s 5ms/step - loss: 3.4858e-05 - accuracy: 1.0000\n",
            "Epoch 72/100\n",
            "14/14 [==============================] - 0s 5ms/step - loss: 5.1492e-05 - accuracy: 1.0000\n",
            "Epoch 73/100\n",
            "14/14 [==============================] - 0s 6ms/step - loss: 2.8523e-05 - accuracy: 1.0000\n",
            "Epoch 74/100\n",
            "14/14 [==============================] - 0s 6ms/step - loss: 6.0157e-05 - accuracy: 1.0000\n",
            "Epoch 75/100\n",
            "14/14 [==============================] - 0s 5ms/step - loss: 1.9326e-05 - accuracy: 1.0000\n",
            "Epoch 76/100\n",
            "14/14 [==============================] - 0s 5ms/step - loss: 2.8539e-05 - accuracy: 1.0000\n",
            "Epoch 77/100\n",
            "14/14 [==============================] - 0s 5ms/step - loss: 3.5636e-05 - accuracy: 1.0000\n",
            "Epoch 78/100\n",
            "14/14 [==============================] - 0s 5ms/step - loss: 4.0284e-05 - accuracy: 1.0000\n",
            "Epoch 79/100\n",
            "14/14 [==============================] - 0s 5ms/step - loss: 3.5177e-05 - accuracy: 1.0000\n",
            "Epoch 80/100\n",
            "14/14 [==============================] - 0s 6ms/step - loss: 3.9446e-05 - accuracy: 1.0000\n",
            "Epoch 81/100\n",
            "14/14 [==============================] - 0s 5ms/step - loss: 1.2277e-05 - accuracy: 1.0000\n",
            "Epoch 82/100\n",
            "14/14 [==============================] - 0s 5ms/step - loss: 4.4016e-05 - accuracy: 1.0000\n",
            "Epoch 83/100\n",
            "14/14 [==============================] - 0s 5ms/step - loss: 3.7824e-05 - accuracy: 1.0000\n",
            "Epoch 84/100\n",
            "14/14 [==============================] - 0s 7ms/step - loss: 6.9847e-05 - accuracy: 1.0000\n",
            "Epoch 85/100\n",
            "14/14 [==============================] - 0s 6ms/step - loss: 2.5058e-05 - accuracy: 1.0000\n",
            "Epoch 86/100\n",
            "14/14 [==============================] - 0s 6ms/step - loss: 2.8215e-05 - accuracy: 1.0000\n",
            "Epoch 87/100\n",
            "14/14 [==============================] - 0s 6ms/step - loss: 2.0076e-05 - accuracy: 1.0000\n",
            "Epoch 88/100\n",
            "14/14 [==============================] - 0s 5ms/step - loss: 3.2868e-05 - accuracy: 1.0000\n",
            "Epoch 89/100\n",
            "14/14 [==============================] - 0s 5ms/step - loss: 2.2307e-05 - accuracy: 1.0000\n",
            "Epoch 90/100\n",
            "14/14 [==============================] - 0s 7ms/step - loss: 5.5331e-05 - accuracy: 1.0000\n",
            "Epoch 91/100\n",
            "14/14 [==============================] - 0s 8ms/step - loss: 2.6664e-05 - accuracy: 1.0000\n",
            "Epoch 92/100\n",
            "14/14 [==============================] - 0s 7ms/step - loss: 1.1218e-04 - accuracy: 1.0000\n",
            "Epoch 93/100\n",
            "14/14 [==============================] - 0s 7ms/step - loss: 0.0013 - accuracy: 1.0000\n",
            "Epoch 94/100\n",
            "14/14 [==============================] - 0s 6ms/step - loss: 0.0373 - accuracy: 0.9953\n",
            "Epoch 95/100\n",
            "14/14 [==============================] - 0s 6ms/step - loss: 0.0637 - accuracy: 0.9787\n",
            "Epoch 96/100\n",
            "14/14 [==============================] - 0s 7ms/step - loss: 0.0598 - accuracy: 0.9810\n",
            "Epoch 97/100\n",
            "14/14 [==============================] - 0s 7ms/step - loss: 0.0413 - accuracy: 0.9882\n",
            "Epoch 98/100\n",
            "14/14 [==============================] - 0s 7ms/step - loss: 0.0116 - accuracy: 0.9976\n",
            "Epoch 99/100\n",
            "14/14 [==============================] - 0s 6ms/step - loss: 0.0045 - accuracy: 1.0000\n",
            "Epoch 100/100\n",
            "14/14 [==============================] - 0s 6ms/step - loss: 7.1372e-04 - accuracy: 1.0000\n"
          ]
        },
        {
          "output_type": "execute_result",
          "data": {
            "text/plain": [
              "<keras.callbacks.History at 0x7fb811b30ca0>"
            ]
          },
          "metadata": {},
          "execution_count": 13
        }
      ]
    },
    {
      "cell_type": "code",
      "source": [
        "test_loss,test_acc=model.evaluate(x_test,y_test)\n",
        "\n",
        "print('test_acc:',test_acc)\n",
        "print('test_loss:',test_loss)"
      ],
      "metadata": {
        "colab": {
          "base_uri": "https://localhost:8080/"
        },
        "id": "9yMRQE9Mjk4w",
        "outputId": "ebe258cb-535a-4478-8427-5f95d6914e18"
      },
      "execution_count": 14,
      "outputs": [
        {
          "output_type": "stream",
          "name": "stdout",
          "text": [
            "2/2 [==============================] - 0s 139ms/step - loss: 2.0244e-05 - accuracy: 1.0000\n",
            "test_acc: 1.0\n",
            "test_loss: 2.0243938706698827e-05\n"
          ]
        }
      ]
    },
    {
      "cell_type": "code",
      "source": [
        "model.save('/content/drive/My Drive/Colab Notebooks/members.h5')"
      ],
      "metadata": {
        "id": "EXStd-DAjy14"
      },
      "execution_count": 15,
      "outputs": []
    },
    {
      "cell_type": "code",
      "source": [
        "img = load_img('/content/drive/My Drive/Colab Notebooks/dong.jpg',target_size=(30,40))\n",
        "plt.imshow(img)\n",
        "img = img_to_array(img)\n",
        "img = img.reshape(1, 30, 40, 3)\n",
        "img = img.astype('float32') / 255\n",
        "result = labels_members[np.argmax(model.predict(img))]\n",
        "print(result)\n",
        "     "
      ],
      "metadata": {
        "colab": {
          "base_uri": "https://localhost:8080/",
          "height": 465
        },
        "id": "i8EBzSmczPtf",
        "outputId": "b16305db-caf8-47fa-b9f9-b249ab5bb58e"
      },
      "execution_count": 17,
      "outputs": [
        {
          "output_type": "stream",
          "name": "stdout",
          "text": [
            "1/1 [==============================] - 0s 174ms/step\n",
            "DONG\n"
          ]
        },
        {
          "output_type": "display_data",
          "data": {
            "text/plain": [
              "<Figure size 640x480 with 1 Axes>"
            ],
            "image/png": "[encoded data removed]"
          },
          "metadata": {}
        }
      ]
    }
  ]
}