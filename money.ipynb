{
  "nbformat": 4,
  "nbformat_minor": 0,
  "metadata": {
    "colab": {
      "provenance": [],
      "authorship_tag": "ABX9TyPEdU1lgLuKtKKHRSEptn6b",
      "include_colab_link": true
    },
    "kernelspec": {
      "name": "python3",
      "display_name": "Python 3"
    },
    "language_info": {
      "name": "python"
    },
    "accelerator": "GPU",
    "gpuClass": "standard"
  },
  "cells": [
    {
      "cell_type": "markdown",
      "metadata": {
        "id": "view-in-github",
        "colab_type": "text"
      },
      "source": [
        "<a href=\"https://colab.research.google.com/github/HoanDiep/BT10_tuan11/blob/main/money.ipynb\" target=\"_parent\"><img src=\"https://colab.research.google.com/assets/colab-badge.svg\" alt=\"Open In Colab\"/></a>"
      ]
    },
    {
      "cell_type": "code",
      "execution_count": 1,
      "metadata": {
        "colab": {
          "base_uri": "https://localhost:8080/"
        },
        "id": "XNfTzZfpdJad",
        "outputId": "d41ad6f7-3294-40a9-c5eb-8dad6fe49eaa"
      },
      "outputs": [
        {
          "output_type": "stream",
          "name": "stdout",
          "text": [
            "Drive already mounted at /content/drive; to attempt to forcibly remount, call drive.mount(\"/content/drive\", force_remount=True).\n"
          ]
        }
      ],
      "source": [
        "from os import listdir\n",
        "from numpy import asarray\n",
        "from numpy import save\n",
        "from keras.utils import load_img, img_to_array\n",
        "import matplotlib.pyplot as plt\n",
        "from google.colab import drive\n",
        "drive.mount('/content/drive')"
      ]
    },
    {
      "cell_type": "code",
      "source": [
        "folder = '/content/drive/My Drive/Colab Notebooks/money/'\n",
        "photos, labels = list(), list()\n",
        "for file in listdir(folder):\n",
        "  if file.startswith('1k'):\n",
        "    output = 0\n",
        "  elif file.startswith('2k'):\n",
        "    output = 1\n",
        "  elif file.startswith('5k'):\n",
        "    output = 2\n",
        "  elif file.startswith('10k'):\n",
        "    output = 3\n",
        "  elif file.startswith('20k'):\n",
        "    output = 4\n",
        "  elif file.startswith('50k'):\n",
        "    output = 5\n",
        "  elif file.startswith('100k'):\n",
        "    output = 6\n",
        "  elif file.startswith('200k'):\n",
        "    output = 7\n",
        "  elif file.startswith('500k'):\n",
        "    output = 8\n",
        "  else:\n",
        "    continue\n",
        "  photo = load_img(folder + file, target_size=(30, 40))\n",
        "  photo = img_to_array(photo)\n",
        "  photos.append(photo)\n",
        "  labels.append(output)\n",
        "photos = asarray(photos)\n",
        "labels = asarray(labels)\n",
        "save('photos.npy', photos)\n",
        "save('labels.npy', labels)"
      ],
      "metadata": {
        "id": "B1ZyroOEdbWm"
      },
      "execution_count": 2,
      "outputs": []
    },
    {
      "cell_type": "code",
      "source": [
        "!cp photos.npy \"/content/drive/My Drive/Colab Notebooks/dataset_money\"\n",
        "!cp labels.npy \"/content/drive/My Drive/Colab Notebooks/dataset_money\""
      ],
      "metadata": {
        "id": "dj8MtxoOhYeU"
      },
      "execution_count": 3,
      "outputs": []
    },
    {
      "cell_type": "code",
      "source": [
        "from sklearn.model_selection import train_test_split\n",
        "import numpy as np\n",
        "photos = np.load('/content/drive/My Drive/Colab Notebooks/dataset_money/photos.npy')\n",
        "labels = np.load('/content/drive/My Drive/Colab Notebooks/dataset_money/labels.npy')\n",
        "\n",
        "x_train, x_test, y_train, y_test = train_test_split(photos, labels, test_size=0.1)"
      ],
      "metadata": {
        "id": "AYUmYgb7hebE"
      },
      "execution_count": 4,
      "outputs": []
    },
    {
      "cell_type": "code",
      "source": [
        "x_train.shape\n"
      ],
      "metadata": {
        "colab": {
          "base_uri": "https://localhost:8080/"
        },
        "id": "EuX1953phiUL",
        "outputId": "2a62c718-1d43-4d65-f4ff-69a08585455e"
      },
      "execution_count": 5,
      "outputs": [
        {
          "output_type": "execute_result",
          "data": {
            "text/plain": [
              "(227, 30, 40, 3)"
            ]
          },
          "metadata": {},
          "execution_count": 5
        }
      ]
    },
    {
      "cell_type": "code",
      "source": [
        "x_test.shape"
      ],
      "metadata": {
        "colab": {
          "base_uri": "https://localhost:8080/"
        },
        "id": "6PLdstWkhlob",
        "outputId": "faa50170-81b5-44b4-fe7f-2ffcf567e76e"
      },
      "execution_count": 6,
      "outputs": [
        {
          "output_type": "execute_result",
          "data": {
            "text/plain": [
              "(26, 30, 40, 3)"
            ]
          },
          "metadata": {},
          "execution_count": 6
        }
      ]
    },
    {
      "cell_type": "code",
      "source": [
        "x_train = x_train.reshape(227, 30, 40, 3)\n",
        "x_test = x_test.reshape(26, 30, 40, 3)\n",
        "x_train = x_train.astype('float32') / 255\n",
        "x_test = x_test.astype('float32') / 255"
      ],
      "metadata": {
        "id": "Hj63i_njho0a"
      },
      "execution_count": 7,
      "outputs": []
    },
    {
      "cell_type": "code",
      "source": [
        "labels_money = ['1k','2k','5k','10k','20k','50k','100k','200k','500k']"
      ],
      "metadata": {
        "id": "wcmXPKvij9Rh"
      },
      "execution_count": 8,
      "outputs": []
    },
    {
      "cell_type": "code",
      "source": [
        "from matplotlib import pyplot as plt\n",
        "# Plot the first two images of the training set\n",
        "plt.figure(figsize=(10, 10))\n",
        "plt.subplot(121)\n",
        "plt.imshow(x_train[0], cmap='gray')\n",
        "plt.title(\"{}\".format(labels_money[y_train[0]]))\n",
        "plt.subplot(122)\n",
        "plt.imshow(x_test[20], cmap='gray')\n",
        "plt.title(\"{}\".format(labels_money[y_test[20]]))\n",
        "plt.show()"
      ],
      "metadata": {
        "colab": {
          "base_uri": "https://localhost:8080/",
          "height": 327
        },
        "id": "WZcCaGEOiMJk",
        "outputId": "2b39eef5-a8d5-4f6e-cb0e-858c02ef370f"
      },
      "execution_count": 9,
      "outputs": [
        {
          "output_type": "display_data",
          "data": {
            "text/plain": [
              "<Figure size 1000x1000 with 2 Axes>"
            ],
            "image/png": "[encoded data removed]"
          },
          "metadata": {}
        }
      ]
    },
    {
      "cell_type": "code",
      "source": [
        "from keras.utils import to_categorical\n",
        "y_train = to_categorical(y_train, 9)\n",
        "y_test = to_categorical(y_test, 9)"
      ],
      "metadata": {
        "id": "KafrdgvoibG_"
      },
      "execution_count": 10,
      "outputs": []
    },
    {
      "cell_type": "code",
      "source": [
        "from keras.models import Sequential\n",
        "from keras.layers import Dense, Conv2D, Flatten, MaxPooling2D, LeakyReLU, Dropout\n",
        "model = Sequential()\n",
        "\n",
        "model.add(Conv2D(32, kernel_size=3, activation='linear', input_shape=(30, 40, 3)))\n",
        "model.add(LeakyReLU(alpha=0.1))\n",
        "model.add(MaxPooling2D(pool_size=(2, 2)))\n",
        "model.add(Dropout(0.25))\n",
        "\n",
        "model.add(Conv2D(64, kernel_size=3, activation='linear', padding = 'same'))\n",
        "model.add(LeakyReLU(alpha=0.1))\n",
        "model.add(MaxPooling2D(pool_size=(2, 2)))\n",
        "model.add(Dropout(0.25))\n",
        "\n",
        "model.add(Conv2D(128, kernel_size=3, activation='linear', padding = 'same'))\n",
        "model.add(LeakyReLU(alpha=0.1))\n",
        "model.add(MaxPooling2D(pool_size=(2, 2)))\n",
        "model.add(Dropout(0.4))\n",
        "\n",
        "model.add(Flatten())\n",
        "\n",
        "model.add(Dense(128, activation='linear'))\n",
        "model.add(LeakyReLU(alpha=0.1))\n",
        "model.add(Dropout(0.3))\n",
        "\n",
        "model.add(Dense(64, activation='linear'))\n",
        "\n",
        "model.add(Dense(9, activation='softmax'))\n",
        "\n",
        "model.summary()\n"
      ],
      "metadata": {
        "colab": {
          "base_uri": "https://localhost:8080/"
        },
        "id": "aMISktVUilK-",
        "outputId": "dc4293c1-d62d-41d7-ab24-b431204c2c78"
      },
      "execution_count": 11,
      "outputs": [
        {
          "output_type": "stream",
          "name": "stdout",
          "text": [
            "Model: \"sequential\"\n",
            "_________________________________________________________________\n",
            " Layer (type)                Output Shape              Param #   \n",
            "=================================================================\n",
            " conv2d (Conv2D)             (None, 28, 38, 32)        896       \n",
            "                                                                 \n",
            " leaky_re_lu (LeakyReLU)     (None, 28, 38, 32)        0         \n",
            "                                                                 \n",
            " max_pooling2d (MaxPooling2D  (None, 14, 19, 32)       0         \n",
            " )                                                               \n",
            "                                                                 \n",
            " dropout (Dropout)           (None, 14, 19, 32)        0         \n",
            "                                                                 \n",
            " conv2d_1 (Conv2D)           (None, 14, 19, 64)        18496     \n",
            "                                                                 \n",
            " leaky_re_lu_1 (LeakyReLU)   (None, 14, 19, 64)        0         \n",
            "                                                                 \n",
            " max_pooling2d_1 (MaxPooling  (None, 7, 9, 64)         0         \n",
            " 2D)                                                             \n",
            "                                                                 \n",
            " dropout_1 (Dropout)         (None, 7, 9, 64)          0         \n",
            "                                                                 \n",
            " conv2d_2 (Conv2D)           (None, 7, 9, 128)         73856     \n",
            "                                                                 \n",
            " leaky_re_lu_2 (LeakyReLU)   (None, 7, 9, 128)         0         \n",
            "                                                                 \n",
            " max_pooling2d_2 (MaxPooling  (None, 3, 4, 128)        0         \n",
            " 2D)                                                             \n",
            "                                                                 \n",
            " dropout_2 (Dropout)         (None, 3, 4, 128)         0         \n",
            "                                                                 \n",
            " flatten (Flatten)           (None, 1536)              0         \n",
            "                                                                 \n",
            " dense (Dense)               (None, 128)               196736    \n",
            "                                                                 \n",
            " leaky_re_lu_3 (LeakyReLU)   (None, 128)               0         \n",
            "                                                                 \n",
            " dropout_3 (Dropout)         (None, 128)               0         \n",
            "                                                                 \n",
            " dense_1 (Dense)             (None, 64)                8256      \n",
            "                                                                 \n",
            " dense_2 (Dense)             (None, 9)                 585       \n",
            "                                                                 \n",
            "=================================================================\n",
            "Total params: 298,825\n",
            "Trainable params: 298,825\n",
            "Non-trainable params: 0\n",
            "_________________________________________________________________\n"
          ]
        }
      ]
    },
    {
      "cell_type": "code",
      "source": [
        "from keras.callbacks import EarlyStopping\n",
        "early_stopping = EarlyStopping(monitor='val_accuracy', patience=10, verbose=1, mode='max')\n",
        "model.compile(optimizer='adam', loss='categorical_crossentropy', metrics=['accuracy'])\n"
      ],
      "metadata": {
        "id": "CIljfEFRipJU"
      },
      "execution_count": 12,
      "outputs": []
    },
    {
      "cell_type": "code",
      "source": [
        "model.fit(x_train, y_train, batch_size=32, epochs=100, verbose=1)"
      ],
      "metadata": {
        "colab": {
          "base_uri": "https://localhost:8080/"
        },
        "id": "l0v75CiBi62v",
        "outputId": "fb6b9e0b-913a-4aaa-f5e8-0d28f31e0086"
      },
      "execution_count": 14,
      "outputs": [
        {
          "output_type": "stream",
          "name": "stdout",
          "text": [
            "Epoch 1/100\n",
            "8/8 [==============================] - 1s 129ms/step - loss: 1.8228 - accuracy: 0.2731\n",
            "Epoch 2/100\n",
            "8/8 [==============================] - 1s 141ms/step - loss: 1.7501 - accuracy: 0.3260\n",
            "Epoch 3/100\n",
            "8/8 [==============================] - 1s 159ms/step - loss: 1.7022 - accuracy: 0.3700\n",
            "Epoch 4/100\n",
            "8/8 [==============================] - 1s 137ms/step - loss: 1.7198 - accuracy: 0.4053\n",
            "Epoch 5/100\n",
            "8/8 [==============================] - 1s 152ms/step - loss: 1.8189 - accuracy: 0.3877\n",
            "Epoch 6/100\n",
            "8/8 [==============================] - 1s 170ms/step - loss: 1.7009 - accuracy: 0.3921\n",
            "Epoch 7/100\n",
            "8/8 [==============================] - 1s 167ms/step - loss: 1.5279 - accuracy: 0.4493\n",
            "Epoch 8/100\n",
            "8/8 [==============================] - 2s 231ms/step - loss: 1.4709 - accuracy: 0.4802\n",
            "Epoch 9/100\n",
            "8/8 [==============================] - 1s 121ms/step - loss: 1.5411 - accuracy: 0.4670\n",
            "Epoch 10/100\n",
            "8/8 [==============================] - 1s 135ms/step - loss: 1.4751 - accuracy: 0.4493\n",
            "Epoch 11/100\n",
            "8/8 [==============================] - 1s 136ms/step - loss: 1.3911 - accuracy: 0.5066\n",
            "Epoch 12/100\n",
            "8/8 [==============================] - 1s 124ms/step - loss: 1.3936 - accuracy: 0.4802\n",
            "Epoch 13/100\n",
            "8/8 [==============================] - 1s 160ms/step - loss: 1.2132 - accuracy: 0.5771\n",
            "Epoch 14/100\n",
            "8/8 [==============================] - 1s 156ms/step - loss: 1.2196 - accuracy: 0.5903\n",
            "Epoch 15/100\n",
            "8/8 [==============================] - 1s 143ms/step - loss: 1.0569 - accuracy: 0.6344\n",
            "Epoch 16/100\n",
            "8/8 [==============================] - 1s 72ms/step - loss: 1.0452 - accuracy: 0.6167\n",
            "Epoch 17/100\n",
            "8/8 [==============================] - 1s 72ms/step - loss: 0.9603 - accuracy: 0.6476\n",
            "Epoch 18/100\n",
            "8/8 [==============================] - 1s 76ms/step - loss: 1.0685 - accuracy: 0.6211\n",
            "Epoch 19/100\n",
            "8/8 [==============================] - 1s 81ms/step - loss: 1.0494 - accuracy: 0.6652\n",
            "Epoch 20/100\n",
            "8/8 [==============================] - 1s 125ms/step - loss: 0.9444 - accuracy: 0.6828\n",
            "Epoch 21/100\n",
            "8/8 [==============================] - 1s 115ms/step - loss: 0.7688 - accuracy: 0.7401\n",
            "Epoch 22/100\n",
            "8/8 [==============================] - 1s 115ms/step - loss: 0.8291 - accuracy: 0.7093\n",
            "Epoch 23/100\n",
            "8/8 [==============================] - 1s 114ms/step - loss: 0.7386 - accuracy: 0.7621\n",
            "Epoch 24/100\n",
            "8/8 [==============================] - 1s 75ms/step - loss: 0.7364 - accuracy: 0.7181\n",
            "Epoch 25/100\n",
            "8/8 [==============================] - 1s 74ms/step - loss: 0.6689 - accuracy: 0.7709\n",
            "Epoch 26/100\n",
            "8/8 [==============================] - 1s 66ms/step - loss: 0.6110 - accuracy: 0.7885\n",
            "Epoch 27/100\n",
            "8/8 [==============================] - 1s 81ms/step - loss: 0.5666 - accuracy: 0.8062\n",
            "Epoch 28/100\n",
            "8/8 [==============================] - 1s 70ms/step - loss: 0.5407 - accuracy: 0.8106\n",
            "Epoch 29/100\n",
            "8/8 [==============================] - 1s 70ms/step - loss: 0.5936 - accuracy: 0.7974\n",
            "Epoch 30/100\n",
            "8/8 [==============================] - 1s 68ms/step - loss: 0.6737 - accuracy: 0.7577\n",
            "Epoch 31/100\n",
            "8/8 [==============================] - 1s 71ms/step - loss: 0.5411 - accuracy: 0.8238\n",
            "Epoch 32/100\n",
            "8/8 [==============================] - 1s 71ms/step - loss: 0.4755 - accuracy: 0.8326\n",
            "Epoch 33/100\n",
            "8/8 [==============================] - 1s 74ms/step - loss: 0.3903 - accuracy: 0.8855\n",
            "Epoch 34/100\n",
            "8/8 [==============================] - 1s 79ms/step - loss: 0.3119 - accuracy: 0.8855\n",
            "Epoch 35/100\n",
            "8/8 [==============================] - 1s 70ms/step - loss: 0.4526 - accuracy: 0.8502\n",
            "Epoch 36/100\n",
            "8/8 [==============================] - 1s 71ms/step - loss: 0.3777 - accuracy: 0.8590\n",
            "Epoch 37/100\n",
            "8/8 [==============================] - 1s 69ms/step - loss: 0.5230 - accuracy: 0.8414\n",
            "Epoch 38/100\n",
            "8/8 [==============================] - 1s 72ms/step - loss: 0.4495 - accuracy: 0.8546\n",
            "Epoch 39/100\n",
            "8/8 [==============================] - 1s 74ms/step - loss: 0.3314 - accuracy: 0.9075\n",
            "Epoch 40/100\n",
            "8/8 [==============================] - 1s 77ms/step - loss: 0.2564 - accuracy: 0.9031\n",
            "Epoch 41/100\n",
            "8/8 [==============================] - 1s 123ms/step - loss: 0.1876 - accuracy: 0.9471\n",
            "Epoch 42/100\n",
            "8/8 [==============================] - 1s 116ms/step - loss: 0.1825 - accuracy: 0.9471\n",
            "Epoch 43/100\n",
            "8/8 [==============================] - 1s 119ms/step - loss: 0.2415 - accuracy: 0.9075\n",
            "Epoch 44/100\n",
            "8/8 [==============================] - 1s 115ms/step - loss: 0.1628 - accuracy: 0.9515\n",
            "Epoch 45/100\n",
            "8/8 [==============================] - 1s 74ms/step - loss: 0.2435 - accuracy: 0.9383\n",
            "Epoch 46/100\n",
            "8/8 [==============================] - 1s 77ms/step - loss: 0.3030 - accuracy: 0.8987\n",
            "Epoch 47/100\n",
            "8/8 [==============================] - 1s 78ms/step - loss: 0.3286 - accuracy: 0.8546\n",
            "Epoch 48/100\n",
            "8/8 [==============================] - 1s 78ms/step - loss: 0.2039 - accuracy: 0.9339\n",
            "Epoch 49/100\n",
            "8/8 [==============================] - 1s 76ms/step - loss: 0.2141 - accuracy: 0.9383\n",
            "Epoch 50/100\n",
            "8/8 [==============================] - 1s 67ms/step - loss: 0.1733 - accuracy: 0.9559\n",
            "Epoch 51/100\n",
            "8/8 [==============================] - 1s 74ms/step - loss: 0.1050 - accuracy: 0.9868\n",
            "Epoch 52/100\n",
            "8/8 [==============================] - 1s 69ms/step - loss: 0.0994 - accuracy: 0.9780\n",
            "Epoch 53/100\n",
            "8/8 [==============================] - 1s 67ms/step - loss: 0.1372 - accuracy: 0.9559\n",
            "Epoch 54/100\n",
            "8/8 [==============================] - 1s 79ms/step - loss: 0.1258 - accuracy: 0.9427\n",
            "Epoch 55/100\n",
            "8/8 [==============================] - 1s 76ms/step - loss: 0.0826 - accuracy: 0.9868\n",
            "Epoch 56/100\n",
            "8/8 [==============================] - 1s 72ms/step - loss: 0.0907 - accuracy: 0.9780\n",
            "Epoch 57/100\n",
            "8/8 [==============================] - 1s 78ms/step - loss: 0.1043 - accuracy: 0.9648\n",
            "Epoch 58/100\n",
            "8/8 [==============================] - 1s 69ms/step - loss: 0.1049 - accuracy: 0.9648\n",
            "Epoch 59/100\n",
            "8/8 [==============================] - 1s 70ms/step - loss: 0.1446 - accuracy: 0.9515\n",
            "Epoch 60/100\n",
            "8/8 [==============================] - 1s 71ms/step - loss: 0.1195 - accuracy: 0.9559\n",
            "Epoch 61/100\n",
            "8/8 [==============================] - 1s 88ms/step - loss: 0.2025 - accuracy: 0.9207\n",
            "Epoch 62/100\n",
            "8/8 [==============================] - 1s 119ms/step - loss: 0.2001 - accuracy: 0.9383\n",
            "Epoch 63/100\n",
            "8/8 [==============================] - 1s 121ms/step - loss: 0.1311 - accuracy: 0.9515\n",
            "Epoch 64/100\n",
            "8/8 [==============================] - 1s 114ms/step - loss: 0.0818 - accuracy: 0.9780\n",
            "Epoch 65/100\n",
            "8/8 [==============================] - 1s 110ms/step - loss: 0.0721 - accuracy: 0.9736\n",
            "Epoch 66/100\n",
            "8/8 [==============================] - 1s 68ms/step - loss: 0.1219 - accuracy: 0.9604\n",
            "Epoch 67/100\n",
            "8/8 [==============================] - 1s 123ms/step - loss: 0.1129 - accuracy: 0.9692\n",
            "Epoch 68/100\n",
            "8/8 [==============================] - 1s 88ms/step - loss: 0.1138 - accuracy: 0.9780\n",
            "Epoch 69/100\n",
            "8/8 [==============================] - 1s 82ms/step - loss: 0.0842 - accuracy: 0.9780\n",
            "Epoch 70/100\n",
            "8/8 [==============================] - 1s 85ms/step - loss: 0.1010 - accuracy: 0.9692\n",
            "Epoch 71/100\n",
            "8/8 [==============================] - 1s 83ms/step - loss: 0.0459 - accuracy: 0.9868\n",
            "Epoch 72/100\n",
            "8/8 [==============================] - 1s 84ms/step - loss: 0.0494 - accuracy: 0.9912\n",
            "Epoch 73/100\n",
            "8/8 [==============================] - 1s 106ms/step - loss: 0.1804 - accuracy: 0.9471\n",
            "Epoch 74/100\n",
            "8/8 [==============================] - 1s 108ms/step - loss: 0.1704 - accuracy: 0.9427\n",
            "Epoch 75/100\n",
            "8/8 [==============================] - 1s 102ms/step - loss: 0.1116 - accuracy: 0.9471\n",
            "Epoch 76/100\n",
            "8/8 [==============================] - 1s 71ms/step - loss: 0.1822 - accuracy: 0.9471\n",
            "Epoch 77/100\n",
            "8/8 [==============================] - 1s 133ms/step - loss: 0.1045 - accuracy: 0.9692\n",
            "Epoch 78/100\n",
            "8/8 [==============================] - 1s 75ms/step - loss: 0.1140 - accuracy: 0.9692\n",
            "Epoch 79/100\n",
            "8/8 [==============================] - 1s 110ms/step - loss: 0.0371 - accuracy: 0.9956\n",
            "Epoch 80/100\n",
            "8/8 [==============================] - 1s 116ms/step - loss: 0.0653 - accuracy: 0.9824\n",
            "Epoch 81/100\n",
            "8/8 [==============================] - 1s 115ms/step - loss: 0.0370 - accuracy: 0.9956\n",
            "Epoch 82/100\n",
            "8/8 [==============================] - 1s 115ms/step - loss: 0.0408 - accuracy: 0.9912\n",
            "Epoch 83/100\n",
            "8/8 [==============================] - 1s 92ms/step - loss: 0.0335 - accuracy: 0.9912\n",
            "Epoch 84/100\n",
            "8/8 [==============================] - 1s 70ms/step - loss: 0.0427 - accuracy: 0.9912\n",
            "Epoch 85/100\n",
            "8/8 [==============================] - 1s 70ms/step - loss: 0.0336 - accuracy: 0.9912\n",
            "Epoch 86/100\n",
            "8/8 [==============================] - 1s 69ms/step - loss: 0.0215 - accuracy: 1.0000\n",
            "Epoch 87/100\n",
            "8/8 [==============================] - 1s 69ms/step - loss: 0.0552 - accuracy: 0.9956\n",
            "Epoch 88/100\n",
            "8/8 [==============================] - 1s 68ms/step - loss: 0.0438 - accuracy: 0.9956\n",
            "Epoch 89/100\n",
            "8/8 [==============================] - 1s 75ms/step - loss: 0.0766 - accuracy: 0.9736\n",
            "Epoch 90/100\n",
            "8/8 [==============================] - 1s 70ms/step - loss: 0.1058 - accuracy: 0.9648\n",
            "Epoch 91/100\n",
            "8/8 [==============================] - 1s 67ms/step - loss: 0.0415 - accuracy: 0.9824\n",
            "Epoch 92/100\n",
            "8/8 [==============================] - 1s 71ms/step - loss: 0.1114 - accuracy: 0.9648\n",
            "Epoch 93/100\n",
            "8/8 [==============================] - 1s 66ms/step - loss: 0.0978 - accuracy: 0.9692\n",
            "Epoch 94/100\n",
            "8/8 [==============================] - 1s 68ms/step - loss: 0.0715 - accuracy: 0.9692\n",
            "Epoch 95/100\n",
            "8/8 [==============================] - 1s 66ms/step - loss: 0.0674 - accuracy: 0.9736\n",
            "Epoch 96/100\n",
            "8/8 [==============================] - 1s 67ms/step - loss: 0.0280 - accuracy: 0.9912\n",
            "Epoch 97/100\n",
            "8/8 [==============================] - 1s 70ms/step - loss: 0.0348 - accuracy: 0.9912\n",
            "Epoch 98/100\n",
            "8/8 [==============================] - 1s 67ms/step - loss: 0.0453 - accuracy: 0.9912\n",
            "Epoch 99/100\n",
            "8/8 [==============================] - 1s 77ms/step - loss: 0.1295 - accuracy: 0.9648\n",
            "Epoch 100/100\n",
            "8/8 [==============================] - 1s 75ms/step - loss: 0.0889 - accuracy: 0.9648\n"
          ]
        },
        {
          "output_type": "execute_result",
          "data": {
            "text/plain": [
              "<keras.callbacks.History at 0x7fc146fc5700>"
            ]
          },
          "metadata": {},
          "execution_count": 14
        }
      ]
    },
    {
      "cell_type": "code",
      "source": [
        "test_loss,test_acc=model.evaluate(x_test,y_test)\n",
        "\n",
        "print('test_acc:',test_acc)\n",
        "print('test_loss:',test_loss)"
      ],
      "metadata": {
        "colab": {
          "base_uri": "https://localhost:8080/"
        },
        "id": "9yMRQE9Mjk4w",
        "outputId": "03d63cbb-8438-487c-af62-0634b1d39774"
      },
      "execution_count": 15,
      "outputs": [
        {
          "output_type": "stream",
          "name": "stdout",
          "text": [
            "1/1 [==============================] - 0s 335ms/step - loss: 0.5236 - accuracy: 0.8846\n",
            "test_acc: 0.8846153616905212\n",
            "test_loss: 0.5236230492591858\n"
          ]
        }
      ]
    },
    {
      "cell_type": "code",
      "source": [
        "model.save('/content/drive/My Drive/Colab Notebooks/money.h5')"
      ],
      "metadata": {
        "id": "EXStd-DAjy14"
      },
      "execution_count": 16,
      "outputs": []
    },
    {
      "cell_type": "code",
      "source": [
        "img = load_img('/content/drive/My Drive/Colab Notebooks/1k.jpg',target_size=(30,40))\n",
        "plt.imshow(img)\n",
        "img = img_to_array(img)\n",
        "img = img.reshape(1, 30, 40, 3)\n",
        "img = img.astype('float32') / 255\n",
        "result = labels_money[np.argmax(model.predict(img))]\n",
        "print(result)"
      ],
      "metadata": {
        "colab": {
          "base_uri": "https://localhost:8080/",
          "height": 465
        },
        "id": "OxG5Jo-qsvmF",
        "outputId": "e92bdd6f-c912-4f9f-9bf5-1e94f1b3e013"
      },
      "execution_count": 35,
      "outputs": [
        {
          "output_type": "stream",
          "name": "stdout",
          "text": [
            "1/1 [==============================] - 0s 31ms/step\n",
            "1k\n"
          ]
        },
        {
          "output_type": "display_data",
          "data": {
            "text/plain": [
              "<Figure size 640x480 with 1 Axes>"
            ],
            "image/png": "[encoded data removed]"
          },
          "metadata": {}
        }
      ]
    },
    {
      "cell_type": "code",
      "source": [
        "img = load_img('/content/drive/My Drive/Colab Notebooks/1k(2).jpg',target_size=(30,40))\n",
        "plt.imshow(img)\n",
        "img = img_to_array(img)\n",
        "img = img.reshape(1, 30, 40, 3)\n",
        "img = img.astype('float32') / 255\n",
        "result = labels_money[np.argmax(model.predict(img))]\n",
        "print(result)"
      ],
      "metadata": {
        "colab": {
          "base_uri": "https://localhost:8080/",
          "height": 465
        },
        "id": "kr95kjT6tEp9",
        "outputId": "935594db-2978-44b2-912e-2a5ef9dde894"
      },
      "execution_count": 39,
      "outputs": [
        {
          "output_type": "stream",
          "name": "stdout",
          "text": [
            "1/1 [==============================] - 0s 38ms/step\n",
            "1k\n"
          ]
        },
        {
          "output_type": "display_data",
          "data": {
            "text/plain": [
              "<Figure size 640x480 with 1 Axes>"
            ],
            "image/png": "[encoded data removed]"
          },
          "metadata": {}
        }
      ]
    }
  ]
}