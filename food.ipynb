{
  "nbformat": 4,
  "nbformat_minor": 0,
  "metadata": {
    "colab": {
      "provenance": [],
      "authorship_tag": "ABX9TyM0rVKqgmY0SAnt1CuAsLq0",
      "include_colab_link": true
    },
    "kernelspec": {
      "name": "python3",
      "display_name": "Python 3"
    },
    "language_info": {
      "name": "python"
    },
    "accelerator": "GPU",
    "gpuClass": "standard"
  },
  "cells": [
    {
      "cell_type": "markdown",
      "metadata": {
        "id": "view-in-github",
        "colab_type": "text"
      },
      "source": [
        "<a href=\"https://colab.research.google.com/github/HoanDiep/BT10_tuan11/blob/main/food.ipynb\" target=\"_parent\"><img src=\"https://colab.research.google.com/assets/colab-badge.svg\" alt=\"Open In Colab\"/></a>"
      ]
    },
    {
      "cell_type": "code",
      "execution_count": 1,
      "metadata": {
        "colab": {
          "base_uri": "https://localhost:8080/"
        },
        "id": "XNfTzZfpdJad",
        "outputId": "1eb82cd0-4615-4acd-9052-e2dcedca1696"
      },
      "outputs": [
        {
          "output_type": "stream",
          "name": "stdout",
          "text": [
            "Drive already mounted at /content/drive; to attempt to forcibly remount, call drive.mount(\"/content/drive\", force_remount=True).\n"
          ]
        }
      ],
      "source": [
        "from os import listdir\n",
        "from numpy import asarray\n",
        "from numpy import save\n",
        "from keras.utils import load_img, img_to_array\n",
        "import matplotlib.pyplot as plt\n",
        "from google.colab import drive\n",
        "drive.mount('/content/drive')"
      ]
    },
    {
      "cell_type": "code",
      "source": [
        "folder = '/content/drive/My Drive/Colab Notebooks/food/'\n",
        "photos, labels = list(), list()\n",
        "for file in listdir(folder):\n",
        "  if file.startswith('banh_can'):\n",
        "    output = 0\n",
        "  elif file.startswith('banh_mi'):\n",
        "    output = 1\n",
        "  elif file.startswith('banh_pia'):\n",
        "    output = 2\n",
        "  elif file.startswith('banh_trang_nuong'):\n",
        "    output = 3\n",
        "  elif file.startswith('banh_xeo'):\n",
        "    output = 4\n",
        "  elif file.startswith('bun_dau'):\n",
        "    output = 5\n",
        "  elif file.startswith('ca_kho'):\n",
        "    output = 6\n",
        "  elif file.startswith('com_tam'):\n",
        "    output = 7\n",
        "  elif file.startswith('nem_chua'):\n",
        "    output = 8\n",
        "  elif file.startswith('pho'):\n",
        "    output = 9\n",
        "  else:\n",
        "    continue\n",
        "  photo = load_img(folder + file, target_size=(30, 40))\n",
        "  photo = img_to_array(photo)\n",
        "  photos.append(photo)\n",
        "  labels.append(output)\n",
        "photos = asarray(photos)\n",
        "labels = asarray(labels)\n",
        "save('photos.npy', photos)\n",
        "save('labels.npy', labels)"
      ],
      "metadata": {
        "id": "B1ZyroOEdbWm"
      },
      "execution_count": 2,
      "outputs": []
    },
    {
      "cell_type": "code",
      "source": [
        "!cp photos.npy \"/content/drive/My Drive/Colab Notebooks/dataset_food\"\n",
        "!cp labels.npy \"/content/drive/My Drive/Colab Notebooks/dataset_food\""
      ],
      "metadata": {
        "id": "dj8MtxoOhYeU"
      },
      "execution_count": 3,
      "outputs": []
    },
    {
      "cell_type": "code",
      "source": [
        "from sklearn.model_selection import train_test_split\n",
        "import numpy as np\n",
        "photos = np.load('/content/drive/My Drive/Colab Notebooks/dataset_food/photos.npy')\n",
        "labels = np.load('/content/drive/My Drive/Colab Notebooks/dataset_food/labels.npy')\n",
        "\n",
        "x_train, x_test, y_train, y_test = train_test_split(photos, labels, test_size=0.1)"
      ],
      "metadata": {
        "id": "AYUmYgb7hebE"
      },
      "execution_count": 4,
      "outputs": []
    },
    {
      "cell_type": "code",
      "source": [
        "x_train.shape\n"
      ],
      "metadata": {
        "colab": {
          "base_uri": "https://localhost:8080/"
        },
        "id": "EuX1953phiUL",
        "outputId": "3fb989ce-ff43-4aa1-881f-8ed9c1dae96b"
      },
      "execution_count": 5,
      "outputs": [
        {
          "output_type": "execute_result",
          "data": {
            "text/plain": [
              "(5128, 30, 40, 3)"
            ]
          },
          "metadata": {},
          "execution_count": 5
        }
      ]
    },
    {
      "cell_type": "code",
      "source": [
        "x_test.shape"
      ],
      "metadata": {
        "colab": {
          "base_uri": "https://localhost:8080/"
        },
        "id": "6PLdstWkhlob",
        "outputId": "4382eb33-003f-45d0-d796-da3fdf4db644"
      },
      "execution_count": 6,
      "outputs": [
        {
          "output_type": "execute_result",
          "data": {
            "text/plain": [
              "(570, 30, 40, 3)"
            ]
          },
          "metadata": {},
          "execution_count": 6
        }
      ]
    },
    {
      "cell_type": "code",
      "source": [
        "x_train = x_train.reshape(5128, 30, 40, 3)\n",
        "x_test = x_test.reshape(570, 30, 40, 3)\n",
        "x_train = x_train.astype('float32') / 255\n",
        "x_test = x_test.astype('float32') / 255"
      ],
      "metadata": {
        "id": "Hj63i_njho0a"
      },
      "execution_count": 7,
      "outputs": []
    },
    {
      "cell_type": "code",
      "source": [
        "labelsFood = ['banh_can','banh_mi','banh_pia','banh_trang_nuong','banh_xeo','bun_dau','ca_kho','com_tam','nem_chua','pho']"
      ],
      "metadata": {
        "id": "wcmXPKvij9Rh"
      },
      "execution_count": 8,
      "outputs": []
    },
    {
      "cell_type": "code",
      "source": [
        "from matplotlib import pyplot as plt\n",
        "# Plot the first two images of the training set\n",
        "plt.figure(figsize=(10, 10))\n",
        "plt.subplot(121)\n",
        "plt.imshow(x_train[0], cmap='gray')\n",
        "plt.title(\"{}\".format(labelsFood[y_train[0]]))\n",
        "plt.subplot(122)\n",
        "plt.imshow(x_test[20], cmap='gray')\n",
        "plt.title(\"{}\".format(labelsFood[y_test[20]]))\n",
        "plt.show()"
      ],
      "metadata": {
        "colab": {
          "base_uri": "https://localhost:8080/",
          "height": 327
        },
        "id": "WZcCaGEOiMJk",
        "outputId": "83b00d59-0264-41f6-a725-e878c1fe2363"
      },
      "execution_count": 9,
      "outputs": [
        {
          "output_type": "display_data",
          "data": {
            "text/plain": [
              "<Figure size 1000x1000 with 2 Axes>"
            ],
            "image/png": "[encoded data removed]"
          },
          "metadata": {}
        }
      ]
    },
    {
      "cell_type": "code",
      "source": [
        "from keras.utils import to_categorical\n",
        "y_train = to_categorical(y_train, 10)\n",
        "y_test = to_categorical(y_test, 10)"
      ],
      "metadata": {
        "id": "KafrdgvoibG_"
      },
      "execution_count": 10,
      "outputs": []
    },
    {
      "cell_type": "code",
      "source": [
        "from keras.models import Sequential\n",
        "from keras.layers import Dense, Conv2D, Flatten, MaxPooling2D, LeakyReLU, Dropout\n",
        "\n",
        "model = Sequential()\n",
        "\n",
        "model.add(Conv2D(32, kernel_size=3, activation='linear', input_shape=(30, 40, 3)))\n",
        "model.add(LeakyReLU(alpha=0.1))\n",
        "model.add(MaxPooling2D(pool_size=(2,2)))\n",
        "model.add(Dropout(0.25))\n",
        "\n",
        "model.add(Conv2D(64, kernel_size=3, activation='linear', padding='same'))\n",
        "model.add(LeakyReLU(alpha=0.1))\n",
        "model.add(MaxPooling2D(pool_size=(2,2)))\n",
        "model.add(Dropout(0.25))\n",
        "\n",
        "model.add(Conv2D(128, kernel_size=3, activation='linear', padding='same'))\n",
        "model.add(LeakyReLU(alpha=0.1))\n",
        "model.add(MaxPooling2D(pool_size=(2,2)))\n",
        "model.add(Dropout(0.25))\n",
        "\n",
        "model.add(Conv2D(256, kernel_size=3, activation='linear', padding='same'))\n",
        "model.add(LeakyReLU(alpha=0.1))\n",
        "model.add(MaxPooling2D(pool_size=(2, 2)))\n",
        "model.add(Dropout(0.25))\n",
        "\n",
        "model.add(Flatten())\n",
        "\n",
        "model.add(Dense(256, activation='linear'))\n",
        "model.add(LeakyReLU(alpha=0.1))\n",
        "model.add(Dropout(0.3))\n",
        "model.add(Dense(10, activation='softmax'))\n",
        "\n",
        "model.summary()"
      ],
      "metadata": {
        "colab": {
          "base_uri": "https://localhost:8080/"
        },
        "id": "aMISktVUilK-",
        "outputId": "d54a924c-ed18-47af-c342-6879bb14175a"
      },
      "execution_count": 25,
      "outputs": [
        {
          "output_type": "stream",
          "name": "stdout",
          "text": [
            "Model: \"sequential_9\"\n",
            "_________________________________________________________________\n",
            " Layer (type)                Output Shape              Param #   \n",
            "=================================================================\n",
            " conv2d_39 (Conv2D)          (None, 28, 38, 32)        896       \n",
            "                                                                 \n",
            " leaky_re_lu_42 (LeakyReLU)  (None, 28, 38, 32)        0         \n",
            "                                                                 \n",
            " max_pooling2d_39 (MaxPoolin  (None, 14, 19, 32)       0         \n",
            " g2D)                                                            \n",
            "                                                                 \n",
            " dropout_36 (Dropout)        (None, 14, 19, 32)        0         \n",
            "                                                                 \n",
            " conv2d_40 (Conv2D)          (None, 14, 19, 64)        18496     \n",
            "                                                                 \n",
            " leaky_re_lu_43 (LeakyReLU)  (None, 14, 19, 64)        0         \n",
            "                                                                 \n",
            " max_pooling2d_40 (MaxPoolin  (None, 7, 9, 64)         0         \n",
            " g2D)                                                            \n",
            "                                                                 \n",
            " dropout_37 (Dropout)        (None, 7, 9, 64)          0         \n",
            "                                                                 \n",
            " conv2d_41 (Conv2D)          (None, 7, 9, 128)         73856     \n",
            "                                                                 \n",
            " leaky_re_lu_44 (LeakyReLU)  (None, 7, 9, 128)         0         \n",
            "                                                                 \n",
            " max_pooling2d_41 (MaxPoolin  (None, 3, 4, 128)        0         \n",
            " g2D)                                                            \n",
            "                                                                 \n",
            " dropout_38 (Dropout)        (None, 3, 4, 128)         0         \n",
            "                                                                 \n",
            " conv2d_42 (Conv2D)          (None, 3, 4, 256)         295168    \n",
            "                                                                 \n",
            " leaky_re_lu_45 (LeakyReLU)  (None, 3, 4, 256)         0         \n",
            "                                                                 \n",
            " max_pooling2d_42 (MaxPoolin  (None, 1, 2, 256)        0         \n",
            " g2D)                                                            \n",
            "                                                                 \n",
            " dropout_39 (Dropout)        (None, 1, 2, 256)         0         \n",
            "                                                                 \n",
            " flatten_3 (Flatten)         (None, 512)               0         \n",
            "                                                                 \n",
            " dense_12 (Dense)            (None, 256)               131328    \n",
            "                                                                 \n",
            " leaky_re_lu_46 (LeakyReLU)  (None, 256)               0         \n",
            "                                                                 \n",
            " dropout_40 (Dropout)        (None, 256)               0         \n",
            "                                                                 \n",
            " dense_13 (Dense)            (None, 10)                2570      \n",
            "                                                                 \n",
            "=================================================================\n",
            "Total params: 522,314\n",
            "Trainable params: 522,314\n",
            "Non-trainable params: 0\n",
            "_________________________________________________________________\n"
          ]
        }
      ]
    },
    {
      "cell_type": "code",
      "source": [
        "from keras.callbacks import EarlyStopping\n",
        "early_stopping = EarlyStopping(monitor='val_accuracy', patience=10, verbose=1, mode='max')\n",
        "model.compile(optimizer='adam', loss='categorical_crossentropy', metrics=['accuracy'])\n"
      ],
      "metadata": {
        "id": "CIljfEFRipJU"
      },
      "execution_count": 16,
      "outputs": []
    },
    {
      "cell_type": "code",
      "source": [
        "model.fit(x_train, y_train, batch_size=64, epochs=100, verbose=1)"
      ],
      "metadata": {
        "colab": {
          "base_uri": "https://localhost:8080/"
        },
        "id": "l0v75CiBi62v",
        "outputId": "bcbd33b6-7e36-4969-c2bf-6c8f19686245"
      },
      "execution_count": 17,
      "outputs": [
        {
          "output_type": "stream",
          "name": "stdout",
          "text": [
            "Epoch 1/100\n",
            "81/81 [==============================] - 10s 14ms/step - loss: 2.1989 - accuracy: 0.1847\n",
            "Epoch 2/100\n",
            "81/81 [==============================] - 1s 7ms/step - loss: 1.9643 - accuracy: 0.3056\n",
            "Epoch 3/100\n",
            "81/81 [==============================] - 1s 7ms/step - loss: 1.7809 - accuracy: 0.3672\n",
            "Epoch 4/100\n",
            "81/81 [==============================] - 1s 7ms/step - loss: 1.6557 - accuracy: 0.4238\n",
            "Epoch 5/100\n",
            "81/81 [==============================] - 1s 7ms/step - loss: 1.5329 - accuracy: 0.4723\n",
            "Epoch 6/100\n",
            "81/81 [==============================] - 1s 7ms/step - loss: 1.4082 - accuracy: 0.5281\n",
            "Epoch 7/100\n",
            "81/81 [==============================] - 1s 7ms/step - loss: 1.2983 - accuracy: 0.5636\n",
            "Epoch 8/100\n",
            "81/81 [==============================] - 1s 7ms/step - loss: 1.2252 - accuracy: 0.6002\n",
            "Epoch 9/100\n",
            "81/81 [==============================] - 1s 7ms/step - loss: 1.1826 - accuracy: 0.6020\n",
            "Epoch 10/100\n",
            "81/81 [==============================] - 1s 7ms/step - loss: 1.0667 - accuracy: 0.6416\n",
            "Epoch 11/100\n",
            "81/81 [==============================] - 1s 7ms/step - loss: 1.0084 - accuracy: 0.6634\n",
            "Epoch 12/100\n",
            "81/81 [==============================] - 1s 7ms/step - loss: 0.9387 - accuracy: 0.6843\n",
            "Epoch 13/100\n",
            "81/81 [==============================] - 1s 9ms/step - loss: 0.8860 - accuracy: 0.7003\n",
            "Epoch 14/100\n",
            "81/81 [==============================] - 1s 9ms/step - loss: 0.8427 - accuracy: 0.7124\n",
            "Epoch 15/100\n",
            "81/81 [==============================] - 1s 9ms/step - loss: 0.7857 - accuracy: 0.7399\n",
            "Epoch 16/100\n",
            "81/81 [==============================] - 1s 9ms/step - loss: 0.7315 - accuracy: 0.7584\n",
            "Epoch 17/100\n",
            "81/81 [==============================] - 1s 9ms/step - loss: 0.6941 - accuracy: 0.7701\n",
            "Epoch 18/100\n",
            "81/81 [==============================] - 1s 8ms/step - loss: 0.6340 - accuracy: 0.7917\n",
            "Epoch 19/100\n",
            "81/81 [==============================] - 1s 7ms/step - loss: 0.6298 - accuracy: 0.7921\n",
            "Epoch 20/100\n",
            "81/81 [==============================] - 1s 8ms/step - loss: 0.5538 - accuracy: 0.8198\n",
            "Epoch 21/100\n",
            "81/81 [==============================] - 1s 7ms/step - loss: 0.5492 - accuracy: 0.8161\n",
            "Epoch 22/100\n",
            "81/81 [==============================] - 1s 7ms/step - loss: 0.5603 - accuracy: 0.8081\n",
            "Epoch 23/100\n",
            "81/81 [==============================] - 1s 7ms/step - loss: 0.4947 - accuracy: 0.8317\n",
            "Epoch 24/100\n",
            "81/81 [==============================] - 1s 7ms/step - loss: 0.4900 - accuracy: 0.8391\n",
            "Epoch 25/100\n",
            "81/81 [==============================] - 1s 7ms/step - loss: 0.5232 - accuracy: 0.8284\n",
            "Epoch 26/100\n",
            "81/81 [==============================] - 1s 7ms/step - loss: 0.4184 - accuracy: 0.8569\n",
            "Epoch 27/100\n",
            "81/81 [==============================] - 1s 7ms/step - loss: 0.3901 - accuracy: 0.8738\n",
            "Epoch 28/100\n",
            "81/81 [==============================] - 1s 7ms/step - loss: 0.4078 - accuracy: 0.8643\n",
            "Epoch 29/100\n",
            "81/81 [==============================] - 1s 7ms/step - loss: 0.4138 - accuracy: 0.8637\n",
            "Epoch 30/100\n",
            "81/81 [==============================] - 1s 7ms/step - loss: 0.3747 - accuracy: 0.8750\n",
            "Epoch 31/100\n",
            "81/81 [==============================] - 1s 7ms/step - loss: 0.3839 - accuracy: 0.8705\n",
            "Epoch 32/100\n",
            "81/81 [==============================] - 1s 7ms/step - loss: 0.3960 - accuracy: 0.8703\n",
            "Epoch 33/100\n",
            "81/81 [==============================] - 1s 7ms/step - loss: 0.3356 - accuracy: 0.8855\n",
            "Epoch 34/100\n",
            "81/81 [==============================] - 1s 7ms/step - loss: 0.3314 - accuracy: 0.8861\n",
            "Epoch 35/100\n",
            "81/81 [==============================] - 1s 8ms/step - loss: 0.3083 - accuracy: 0.8974\n",
            "Epoch 36/100\n",
            "81/81 [==============================] - 1s 11ms/step - loss: 0.2892 - accuracy: 0.9031\n",
            "Epoch 37/100\n",
            "81/81 [==============================] - 1s 17ms/step - loss: 0.2938 - accuracy: 0.9013\n",
            "Epoch 38/100\n",
            "81/81 [==============================] - 1s 17ms/step - loss: 0.3578 - accuracy: 0.8787\n",
            "Epoch 39/100\n",
            "81/81 [==============================] - 1s 11ms/step - loss: 0.3156 - accuracy: 0.8976\n",
            "Epoch 40/100\n",
            "81/81 [==============================] - 1s 7ms/step - loss: 0.2889 - accuracy: 0.9002\n",
            "Epoch 41/100\n",
            "81/81 [==============================] - 1s 7ms/step - loss: 0.2987 - accuracy: 0.9021\n",
            "Epoch 42/100\n",
            "81/81 [==============================] - 1s 7ms/step - loss: 0.2703 - accuracy: 0.9099\n",
            "Epoch 43/100\n",
            "81/81 [==============================] - 1s 7ms/step - loss: 0.2425 - accuracy: 0.9208\n",
            "Epoch 44/100\n",
            "81/81 [==============================] - 1s 7ms/step - loss: 0.2618 - accuracy: 0.9099\n",
            "Epoch 45/100\n",
            "81/81 [==============================] - 1s 7ms/step - loss: 0.2453 - accuracy: 0.9167\n",
            "Epoch 46/100\n",
            "81/81 [==============================] - 1s 7ms/step - loss: 0.2364 - accuracy: 0.9210\n",
            "Epoch 47/100\n",
            "81/81 [==============================] - 1s 7ms/step - loss: 0.2685 - accuracy: 0.9089\n",
            "Epoch 48/100\n",
            "81/81 [==============================] - 1s 8ms/step - loss: 0.2400 - accuracy: 0.9193\n",
            "Epoch 49/100\n",
            "81/81 [==============================] - 1s 7ms/step - loss: 0.2388 - accuracy: 0.9187\n",
            "Epoch 50/100\n",
            "81/81 [==============================] - 1s 7ms/step - loss: 0.2388 - accuracy: 0.9249\n",
            "Epoch 51/100\n",
            "81/81 [==============================] - 1s 8ms/step - loss: 0.2393 - accuracy: 0.9214\n",
            "Epoch 52/100\n",
            "81/81 [==============================] - 1s 7ms/step - loss: 0.2063 - accuracy: 0.9337\n",
            "Epoch 53/100\n",
            "81/81 [==============================] - 1s 7ms/step - loss: 0.1880 - accuracy: 0.9343\n",
            "Epoch 54/100\n",
            "81/81 [==============================] - 1s 8ms/step - loss: 0.2267 - accuracy: 0.9267\n",
            "Epoch 55/100\n",
            "81/81 [==============================] - 1s 9ms/step - loss: 0.2060 - accuracy: 0.9286\n",
            "Epoch 56/100\n",
            "81/81 [==============================] - 1s 9ms/step - loss: 0.1928 - accuracy: 0.9374\n",
            "Epoch 57/100\n",
            "81/81 [==============================] - 1s 9ms/step - loss: 0.2079 - accuracy: 0.9329\n",
            "Epoch 58/100\n",
            "81/81 [==============================] - 1s 9ms/step - loss: 0.1983 - accuracy: 0.9356\n",
            "Epoch 59/100\n",
            "81/81 [==============================] - 1s 9ms/step - loss: 0.1935 - accuracy: 0.9364\n",
            "Epoch 60/100\n",
            "81/81 [==============================] - 1s 8ms/step - loss: 0.2064 - accuracy: 0.9282\n",
            "Epoch 61/100\n",
            "81/81 [==============================] - 1s 7ms/step - loss: 0.2539 - accuracy: 0.9210\n",
            "Epoch 62/100\n",
            "81/81 [==============================] - 1s 7ms/step - loss: 0.2049 - accuracy: 0.9325\n",
            "Epoch 63/100\n",
            "81/81 [==============================] - 1s 8ms/step - loss: 0.2130 - accuracy: 0.9269\n",
            "Epoch 64/100\n",
            "81/81 [==============================] - 1s 7ms/step - loss: 0.2052 - accuracy: 0.9323\n",
            "Epoch 65/100\n",
            "81/81 [==============================] - 1s 8ms/step - loss: 0.2528 - accuracy: 0.9154\n",
            "Epoch 66/100\n",
            "81/81 [==============================] - 1s 7ms/step - loss: 0.2037 - accuracy: 0.9333\n",
            "Epoch 67/100\n",
            "81/81 [==============================] - 1s 8ms/step - loss: 0.1716 - accuracy: 0.9429\n",
            "Epoch 68/100\n",
            "81/81 [==============================] - 1s 8ms/step - loss: 0.2342 - accuracy: 0.9255\n",
            "Epoch 69/100\n",
            "81/81 [==============================] - 1s 7ms/step - loss: 0.2020 - accuracy: 0.9323\n",
            "Epoch 70/100\n",
            "81/81 [==============================] - 1s 7ms/step - loss: 0.1767 - accuracy: 0.9415\n",
            "Epoch 71/100\n",
            "81/81 [==============================] - 1s 7ms/step - loss: 0.1717 - accuracy: 0.9481\n",
            "Epoch 72/100\n",
            "81/81 [==============================] - 1s 8ms/step - loss: 0.1605 - accuracy: 0.9468\n",
            "Epoch 73/100\n",
            "81/81 [==============================] - 1s 7ms/step - loss: 0.2012 - accuracy: 0.9374\n",
            "Epoch 74/100\n",
            "81/81 [==============================] - 1s 7ms/step - loss: 0.2043 - accuracy: 0.9325\n",
            "Epoch 75/100\n",
            "81/81 [==============================] - 1s 7ms/step - loss: 0.1611 - accuracy: 0.9485\n",
            "Epoch 76/100\n",
            "81/81 [==============================] - 1s 8ms/step - loss: 0.1701 - accuracy: 0.9433\n",
            "Epoch 77/100\n",
            "81/81 [==============================] - 1s 8ms/step - loss: 0.1680 - accuracy: 0.9472\n",
            "Epoch 78/100\n",
            "81/81 [==============================] - 1s 9ms/step - loss: 0.2229 - accuracy: 0.9292\n",
            "Epoch 79/100\n",
            "81/81 [==============================] - 1s 8ms/step - loss: 0.1539 - accuracy: 0.9487\n",
            "Epoch 80/100\n",
            "81/81 [==============================] - 1s 9ms/step - loss: 0.1684 - accuracy: 0.9442\n",
            "Epoch 81/100\n",
            "81/81 [==============================] - 1s 8ms/step - loss: 0.1726 - accuracy: 0.9460\n",
            "Epoch 82/100\n",
            "81/81 [==============================] - 1s 7ms/step - loss: 0.1589 - accuracy: 0.9452\n",
            "Epoch 83/100\n",
            "81/81 [==============================] - 1s 8ms/step - loss: 0.1915 - accuracy: 0.9390\n",
            "Epoch 84/100\n",
            "81/81 [==============================] - 1s 7ms/step - loss: 0.1491 - accuracy: 0.9491\n",
            "Epoch 85/100\n",
            "81/81 [==============================] - 1s 7ms/step - loss: 0.1514 - accuracy: 0.9485\n",
            "Epoch 86/100\n",
            "81/81 [==============================] - 1s 7ms/step - loss: 0.1647 - accuracy: 0.9440\n",
            "Epoch 87/100\n",
            "81/81 [==============================] - 1s 7ms/step - loss: 0.1387 - accuracy: 0.9551\n",
            "Epoch 88/100\n",
            "81/81 [==============================] - 1s 7ms/step - loss: 0.1601 - accuracy: 0.9503\n",
            "Epoch 89/100\n",
            "81/81 [==============================] - 1s 8ms/step - loss: 0.1581 - accuracy: 0.9472\n",
            "Epoch 90/100\n",
            "81/81 [==============================] - 1s 7ms/step - loss: 0.1600 - accuracy: 0.9477\n",
            "Epoch 91/100\n",
            "81/81 [==============================] - 1s 11ms/step - loss: 0.1308 - accuracy: 0.9594\n",
            "Epoch 92/100\n",
            "81/81 [==============================] - 1s 9ms/step - loss: 0.1604 - accuracy: 0.9503\n",
            "Epoch 93/100\n",
            "81/81 [==============================] - 1s 9ms/step - loss: 0.1591 - accuracy: 0.9514\n",
            "Epoch 94/100\n",
            "81/81 [==============================] - 1s 11ms/step - loss: 0.1579 - accuracy: 0.9526\n",
            "Epoch 95/100\n",
            "81/81 [==============================] - 1s 7ms/step - loss: 0.1354 - accuracy: 0.9569\n",
            "Epoch 96/100\n",
            "81/81 [==============================] - 1s 8ms/step - loss: 0.1167 - accuracy: 0.9622\n",
            "Epoch 97/100\n",
            "81/81 [==============================] - 1s 8ms/step - loss: 0.1611 - accuracy: 0.9462\n",
            "Epoch 98/100\n",
            "81/81 [==============================] - 1s 9ms/step - loss: 0.1730 - accuracy: 0.9475\n",
            "Epoch 99/100\n",
            "81/81 [==============================] - 1s 9ms/step - loss: 0.1779 - accuracy: 0.9423\n",
            "Epoch 100/100\n",
            "81/81 [==============================] - 1s 8ms/step - loss: 0.1507 - accuracy: 0.9518\n"
          ]
        },
        {
          "output_type": "execute_result",
          "data": {
            "text/plain": [
              "<keras.callbacks.History at 0x7fd8297b88e0>"
            ]
          },
          "metadata": {},
          "execution_count": 17
        }
      ]
    },
    {
      "cell_type": "code",
      "source": [
        "test_loss,test_acc=model.evaluate(x_test,y_test)\n",
        "\n",
        "print('test_acc:',test_acc)\n",
        "print('test_loss:',test_loss)"
      ],
      "metadata": {
        "colab": {
          "base_uri": "https://localhost:8080/"
        },
        "id": "9yMRQE9Mjk4w",
        "outputId": "ff8c2b9b-1909-45c0-8096-86619a48ecb4"
      },
      "execution_count": 18,
      "outputs": [
        {
          "output_type": "stream",
          "name": "stdout",
          "text": [
            "18/18 [==============================] - 1s 10ms/step - loss: 1.5165 - accuracy: 0.7018\n",
            "test_acc: 0.7017543911933899\n",
            "test_loss: 1.5164722204208374\n"
          ]
        }
      ]
    },
    {
      "cell_type": "code",
      "source": [
        "model.save('/content/drive/My Drive/Colab Notebooks/food.h5')"
      ],
      "metadata": {
        "id": "EXStd-DAjy14"
      },
      "execution_count": 19,
      "outputs": []
    },
    {
      "cell_type": "code",
      "source": [
        "\n",
        "img = load_img('/content/drive/My Drive/Colab Notebooks/banhxeo.jpg',target_size=(30,40))\n",
        "plt.imshow(img)\n",
        "img = img_to_array(img)\n",
        "img = img.reshape(1, 30, 40, 3)\n",
        "img = img.astype('float32') / 255\n",
        "result = labelsFood[np.argmax(model.predict(img))]\n",
        "print(result)"
      ],
      "metadata": {
        "colab": {
          "base_uri": "https://localhost:8080/",
          "height": 465
        },
        "id": "CwQ-NK3kqOg8",
        "outputId": "6599366a-12e3-4384-8b0e-818ae45057c9"
      },
      "execution_count": 20,
      "outputs": [
        {
          "output_type": "stream",
          "name": "stdout",
          "text": [
            "1/1 [==============================] - 0s 269ms/step\n",
            "banh_xeo\n"
          ]
        },
        {
          "output_type": "display_data",
          "data": {
            "text/plain": [
              "<Figure size 640x480 with 1 Axes>"
            ],
            "image/png": "[encoded data removed]"
          },
          "metadata": {}
        }
      ]
    },
    {
      "cell_type": "code",
      "source": [
        "img = load_img('/content/drive/My Drive/Colab Notebooks/banhmi.jpg',target_size=(30,40))\n",
        "plt.imshow(img)\n",
        "img = img_to_array(img)\n",
        "img = img.reshape(1, 30, 40, 3)\n",
        "img = img.astype('float32') / 255\n",
        "result = labelsFood[np.argmax(model.predict(img))]\n",
        "print(result)"
      ],
      "metadata": {
        "id": "cj0jXpVUyAI3",
        "colab": {
          "base_uri": "https://localhost:8080/",
          "height": 465
        },
        "outputId": "3d7535bc-f7e6-4696-9773-22d74caf72d7"
      },
      "execution_count": 28,
      "outputs": [
        {
          "output_type": "stream",
          "name": "stdout",
          "text": [
            "1/1 [==============================] - 0s 22ms/step\n",
            "banh_mi\n"
          ]
        },
        {
          "output_type": "display_data",
          "data": {
            "text/plain": [
              "<Figure size 640x480 with 1 Axes>"
            ],
            "image/png": "[encoded data removed]"
          },
          "metadata": {}
        }
      ]
    }
  ]
}